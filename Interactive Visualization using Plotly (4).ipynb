{
 "cells": [
  {
   "cell_type": "code",
   "execution_count": 1,
   "metadata": {
    "_cell_guid": "b1076dfc-b9ad-4769-8c92-a6c4dae69d19",
    "_uuid": "8f2839f25d086af736a60e9eeb907d3b93b6e0e5"
   },
   "outputs": [],
   "source": [
    "# This Python 3 environment comes with many helpful analytics libraries installed\n",
    "# It is defined by the kaggle/python docker image: https://github.com/kaggle/docker-python\n",
    "# For example, here's several helpful packages to load in \n",
    "\n",
    "import numpy as np # linear algebra\n",
    "import pandas as pd # data processing, CSV file I/O (e.g. pd.read_csv)\n",
    "\n",
    "# Input data files are available in the \"../input/\" directory.\n",
    "# For example, running this (by clicking run or pressing Shift+Enter) will list all files under the input directory\n",
    "\n",
    "import os\n",
    "for dirname, _, filenames in os.walk('/kaggle/input'):\n",
    "    for filename in filenames:\n",
    "        print(os.path.join(dirname, filename))\n",
    "\n",
    "# Any results you write to the current directory are saved as output."
   ]
  },
  {
   "cell_type": "code",
   "execution_count": null,
   "metadata": {
    "_cell_guid": "79c7e3d0-c299-4dcb-8224-4455121ee9b0",
    "_uuid": "d629ff2d2480ee46fbb7e2d37f6b5fab8052498a"
   },
   "outputs": [],
   "source": [
    "import plotly\n",
    "plotly.__version__\n",
    "import warnings\n",
    "warnings.filterwarnings(\"ignore\")\n",
    "\n",
    "from plotly import tools\n",
    "import plotly.figure_factory as ff\n",
    "from plotly.offline import init_notebook_mode, iplot\n",
    "import plotly.figure_factory as ff\n",
    "init_notebook_mode(connected=True)\n",
    "import plotly.graph_objs as go"
   ]
  },
  {
   "cell_type": "code",
   "execution_count": null,
   "metadata": {},
   "outputs": [],
   "source": [
    "import plotly as py\n",
    "# command for work offline\n",
    "py.offline.init_notebook_mode(connected=True)"
   ]
  },
  {
   "cell_type": "code",
   "execution_count": null,
   "metadata": {},
   "outputs": [],
   "source": [
    "data = pd.read_csv(\"../input/fifa19/data.csv\")\n",
    "data.head(3)"
   ]
  },
  {
   "cell_type": "code",
   "execution_count": null,
   "metadata": {},
   "outputs": [],
   "source": [
    "data.columns"
   ]
  },
  {
   "cell_type": "code",
   "execution_count": null,
   "metadata": {},
   "outputs": [],
   "source": [
    "cols = [ 'Body Type', 'Real Face','Jersey Number', 'Joined', 'Loaned From', \n",
    "        'Contract Valid Until','Height', 'Weight', 'LS', 'ST', 'RS', 'LW', 'LF', 'CF', 'RF',\n",
    "        'RW','LAM', 'CAM', 'RAM', 'LM', 'LCM', 'CM', 'RCM', 'RM', 'LWB', 'LDM',\n",
    "       'CDM', 'RDM', 'RWB', 'LB', 'LCB', 'CB', 'RCB', 'RB','Interceptions', 'Positioning', \n",
    "        'Vision', 'Penalties', 'Composure','Marking', 'StandingTackle', 'SlidingTackle', \n",
    "        'GKDiving', 'GKHandling','GKKicking', 'GKPositioning', 'GKReflexes', 'Release Clause']"
   ]
  },
  {
   "cell_type": "code",
   "execution_count": null,
   "metadata": {},
   "outputs": [],
   "source": [
    "data.drop(columns=cols, inplace=True)"
   ]
  },
  {
   "cell_type": "code",
   "execution_count": null,
   "metadata": {},
   "outputs": [],
   "source": [
    "data.head()"
   ]
  },
  {
   "cell_type": "code",
   "execution_count": null,
   "metadata": {},
   "outputs": [],
   "source": [
    "data.Club.unique()"
   ]
  },
  {
   "cell_type": "code",
   "execution_count": null,
   "metadata": {},
   "outputs": [],
   "source": [
    "# filling the missing value for the continous variables for proper data visualization\n",
    "\n",
    "data['ShortPassing'].fillna(data['ShortPassing'].mean(), inplace = True)\n",
    "data['Volleys'].fillna(data['Volleys'].mean(), inplace = True)\n",
    "data['Dribbling'].fillna(data['Dribbling'].mean(), inplace = True)\n",
    "data['Curve'].fillna(data['Curve'].mean(), inplace = True)\n",
    "data['FKAccuracy'].fillna(data['FKAccuracy'], inplace = True)\n",
    "data['LongPassing'].fillna(data['LongPassing'].mean(), inplace = True)\n",
    "data['BallControl'].fillna(data['BallControl'].mean(), inplace = True)\n",
    "data['HeadingAccuracy'].fillna(data['HeadingAccuracy'].mean(), inplace = True)\n",
    "data['Finishing'].fillna(data['Finishing'].mean(), inplace = True)\n",
    "data['Crossing'].fillna(data['Crossing'].mean(), inplace = True)\n"
   ]
  },
  {
   "cell_type": "code",
   "execution_count": null,
   "metadata": {},
   "outputs": [],
   "source": [
    "data.info()"
   ]
  },
  {
   "cell_type": "code",
   "execution_count": null,
   "metadata": {},
   "outputs": [],
   "source": [
    "def convert(Value):\n",
    "    out = Value.replace('€', '')\n",
    "    if 'M' in out:\n",
    "        out = float(out.replace('M', ''))*1000000\n",
    "    elif 'K' in Value:\n",
    "        out = float(out.replace('K', ''))*1000\n",
    "    return float(out)"
   ]
  },
  {
   "cell_type": "code",
   "execution_count": null,
   "metadata": {},
   "outputs": [],
   "source": [
    "data['Value'] = data['Value'].apply(lambda x : convert(x)/100000)\n"
   ]
  },
  {
   "cell_type": "code",
   "execution_count": null,
   "metadata": {},
   "outputs": [],
   "source": [
    "data.Value"
   ]
  },
  {
   "cell_type": "code",
   "execution_count": null,
   "metadata": {},
   "outputs": [],
   "source": []
  },
  {
   "cell_type": "code",
   "execution_count": null,
   "metadata": {},
   "outputs": [],
   "source": [
    "data.Value.head(5)"
   ]
  },
  {
   "cell_type": "code",
   "execution_count": null,
   "metadata": {},
   "outputs": [],
   "source": [
    "data.dropna(inplace=True)"
   ]
  },
  {
   "cell_type": "code",
   "execution_count": null,
   "metadata": {},
   "outputs": [],
   "source": [
    "top_clubs = ['FC Barcelona', 'Juventus', 'Paris Saint-Germain',\n",
    "       'Manchester United', 'Chelsea', 'Real Madrid',\n",
    "       'Liverpool', 'Arsenal']"
   ]
  },
  {
   "cell_type": "code",
   "execution_count": null,
   "metadata": {},
   "outputs": [],
   "source": [
    "clubs = data[data.Club.isin(top_clubs)]"
   ]
  },
  {
   "cell_type": "code",
   "execution_count": null,
   "metadata": {},
   "outputs": [],
   "source": [
    "clubs.head()"
   ]
  },
  {
   "cell_type": "code",
   "execution_count": null,
   "metadata": {},
   "outputs": [],
   "source": [
    "FCB = clubs[clubs.Club == 'FC Barcelona'].sort_values('Overall', ascending = True).tail(5)\n",
    "Juventus = clubs[clubs.Club == 'Juventus'].sort_values('Overall', ascending = True).tail(5)\n",
    "PSG = clubs[clubs.Club == 'Paris Saint-Germain'].sort_values('Overall', ascending = True).tail(5)\n",
    "RM = clubs[clubs.Club == 'Real Madrid'].sort_values('Overall', ascending = True).tail(5)\n",
    "MU = clubs[clubs.Club == 'Manchester United'].sort_values('Overall', ascending = True).tail(5)"
   ]
  },
  {
   "cell_type": "code",
   "execution_count": null,
   "metadata": {},
   "outputs": [],
   "source": [
    "FCB"
   ]
  },
  {
   "cell_type": "code",
   "execution_count": null,
   "metadata": {},
   "outputs": [],
   "source": [
    "MU"
   ]
  },
  {
   "cell_type": "code",
   "execution_count": null,
   "metadata": {},
   "outputs": [],
   "source": [
    "data.info()"
   ]
  },
  {
   "cell_type": "markdown",
   "metadata": {},
   "source": [
    "**Top Players in Top 3 Clubs**"
   ]
  },
  {
   "cell_type": "code",
   "execution_count": null,
   "metadata": {},
   "outputs": [],
   "source": [
    "y1 = FCB['Name']\n",
    "y2 = Juventus['Name']\n",
    "y3 = RM['Name']\n",
    "\n",
    "x1 = FCB['Overall']\n",
    "x2 = Juventus['Overall']\n",
    "x3 = RM['Overall']\n",
    "\n",
    "trace1 = go.Bar(\n",
    "    x=x1,\n",
    "    y=y1,\n",
    "    name = 'FCB',\n",
    "    text = FCB['Nationality'],\n",
    "    orientation = 'h',\n",
    "    hoverinfo= \"y+text\",\n",
    "    marker=dict(\n",
    "        color=FCB.Value,\n",
    "        #colorscale='inferno',\n",
    "        colorbar_title ='Value €<br>(x100000)',\n",
    "        showscale=True,\n",
    "        reversescale = True\n",
    "    )\n",
    ")\n",
    "trace2 = go.Bar(\n",
    "    x=x2,\n",
    "    y=y2,\n",
    "    name='Juventus',\n",
    "    text = Juventus['Nationality'],\n",
    "    #textposition = 'auto',\n",
    "    hoverinfo=\"y+text\",\n",
    "    orientation = 'h',\n",
    "       marker=dict(\n",
    "        color=Juventus.Value,\n",
    "        colorscale='Viridis',\n",
    "        colorbar_title ='Value €<br>(x100000)',\n",
    "        showscale=True,\n",
    "        reversescale = True\n",
    "    )\n",
    ")\n",
    "\n",
    "trace3 = go.Bar(\n",
    "    x=x3,\n",
    "    y=y3,\n",
    "    name='RM',\n",
    "    text = RM['Nationality'],\n",
    "    #textposition = 'auto',\n",
    "    hoverinfo=\"y+text\",\n",
    "    orientation = 'h',\n",
    "      marker=dict(\n",
    "        color=RM.Value,\n",
    "        colorscale='Cividis',\n",
    "        colorbar_title ='Value €<br>(x100000)',\n",
    "        showscale=True,\n",
    "        reversescale = True\n",
    "    )\n",
    ")\n",
    "\n",
    "updatemenus = list([\n",
    "    dict(active=-1,\n",
    "         buttons=list([   \n",
    "            dict(label = 'FCB',\n",
    "                 method = 'update',\n",
    "                 args = [{'visible': [True, False, False]},\n",
    "                         {'title': 'Top FC Barcelona Players'}]),\n",
    "            dict(label = 'Juventus',\n",
    "                 method = 'update',\n",
    "                 args = [{'visible': [False, True, False]},\n",
    "                         {'title': 'Top Juventus Players',}]),\n",
    "            dict(label = 'Real Madrid',\n",
    "                 method = 'update',\n",
    "                 args = [{'visible': [False, False, True]},\n",
    "                         {'title': 'Top Real Madrid Players',}])\n",
    "        ]),\n",
    "    )\n",
    "])\n",
    "\n",
    "\n",
    "\n",
    "data = [trace1, trace2, trace3]\n",
    "layout = go.Layout(\n",
    "    barmode='group',\n",
    "    updatemenus=updatemenus,\n",
    "    bargroupgap=0.1,\n",
    "    showlegend = False,\n",
    "    title='Top Players in FIFA 19', plot_bgcolor='grey',\n",
    "    xaxis=dict(\n",
    "        title = 'Overall Score',\n",
    "        tickfont=dict(\n",
    "            size=14\n",
    "        )\n",
    "    ),\n",
    "    yaxis=dict(\n",
    "        title='Top Players',\n",
    "        titlefont=dict(\n",
    "            size=16,\n",
    "            color='rgb(107, 107, 107)'\n",
    "        ),\n",
    "        tickfont=dict(\n",
    "            size=14,\n",
    "            color='rgb(107, 107, 107)'\n",
    "        )\n",
    "    )\n",
    ")\n",
    "\n",
    "fig = go.Figure(data=data, layout=layout)"
   ]
  },
  {
   "cell_type": "code",
   "execution_count": null,
   "metadata": {},
   "outputs": [],
   "source": [
    "py.offline.iplot(fig)"
   ]
  },
  {
   "cell_type": "code",
   "execution_count": null,
   "metadata": {},
   "outputs": [],
   "source": []
  },
  {
   "cell_type": "markdown",
   "metadata": {},
   "source": [
    "**Wages of Top GoalKeepers**"
   ]
  },
  {
   "cell_type": "code",
   "execution_count": null,
   "metadata": {},
   "outputs": [],
   "source": [
    "players = pd.read_csv(\"../input/fifa19/data.csv\")\n",
    "players.info()"
   ]
  },
  {
   "cell_type": "code",
   "execution_count": null,
   "metadata": {},
   "outputs": [],
   "source": [
    "players.drop(columns= 'Unnamed: 0', inplace=True)"
   ]
  },
  {
   "cell_type": "code",
   "execution_count": null,
   "metadata": {},
   "outputs": [],
   "source": [
    "best_GKs=players[players.Position==\"GK\"]\n",
    "\n",
    "best_GKs[\"Wage\"] = best_GKs[\"Wage\"].str.replace(\"€\",\"\")\n",
    "best_GKs[\"Wage\"]=best_GKs[\"Wage\"].str.replace(\"K\",\"\")\n",
    "best_GKs[\"Wage\"]=best_GKs[\"Wage\"].astype(int)\n",
    "new_index=best_GKs[\"Wage\"].sort_values(ascending=False).index.values\n",
    "highestPaidGk=best_GKs.reindex(new_index)"
   ]
  },
  {
   "cell_type": "code",
   "execution_count": null,
   "metadata": {},
   "outputs": [],
   "source": [
    "top10_best_GKs=highestPaidGk.head(10)\n",
    "fig = {\"data\" : [{ \n",
    "    \"y\": top10_best_GKs.Overall,\n",
    "    \"x\": top10_best_GKs.Name,\n",
    "        \n",
    "        \"mode\":\"markers\",\n",
    "        \"marker\":{\"color\":highestPaidGk.GKDiving,\"colorscale\": \"icefire\",\n",
    "                  \"size\" :highestPaidGk.Wage,\"sizeref\": True,'showscale': True},\n",
    "        \"text\": top10_best_GKs.Club   \n",
    "    }],\n",
    "\"layout\" : {\"title\":\"Wage(Size)/Diving Skill(Color) Comparison of Top GK\",\n",
    "            \"xaxis\": {\n",
    "                \"title\" : \"Players\"},\n",
    "    \"yaxis\" :{\"title\":'Overall Score'} \n",
    "           }}\n",
    "iplot(fig)"
   ]
  },
  {
   "cell_type": "code",
   "execution_count": null,
   "metadata": {},
   "outputs": [],
   "source": []
  },
  {
   "cell_type": "code",
   "execution_count": null,
   "metadata": {},
   "outputs": [],
   "source": []
  }
 ],
 "metadata": {
  "kernelspec": {
   "display_name": "Python 3",
   "language": "python",
   "name": "python3"
  },
  "language_info": {
   "codemirror_mode": {
    "name": "ipython",
    "version": 3
   },
   "file_extension": ".py",
   "mimetype": "text/x-python",
   "name": "python",
   "nbconvert_exporter": "python",
   "pygments_lexer": "ipython3",
   "version": "3.6.5"
  }
 },
 "nbformat": 4,
 "nbformat_minor": 1
}
