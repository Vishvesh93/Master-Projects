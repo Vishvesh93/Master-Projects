{
 "cells": [
  {
   "cell_type": "code",
   "execution_count": 3,
   "metadata": {},
   "outputs": [],
   "source": [
    "import pandas as pd\n",
    "import numpy as np\n",
    "import matplotlib.pyplot as plt\n",
    "# Import a scoring metric to compare methods\n",
    "from sklearn.metrics import r2_score\n",
    "%matplotlib inline"
   ]
  },
  {
   "cell_type": "code",
   "execution_count": 56,
   "metadata": {},
   "outputs": [],
   "source": [
    "df = pd.read_csv('AV_2016.csv')"
   ]
  },
  {
   "cell_type": "code",
   "execution_count": 2,
   "metadata": {},
   "outputs": [],
   "source": [
    "#df = pd.read_excel('ihbas_2014.xlsx')"
   ]
  },
  {
   "cell_type": "code",
   "execution_count": 57,
   "metadata": {},
   "outputs": [
    {
     "data": {
      "text/html": [
       "<div>\n",
       "<style scoped>\n",
       "    .dataframe tbody tr th:only-of-type {\n",
       "        vertical-align: middle;\n",
       "    }\n",
       "\n",
       "    .dataframe tbody tr th {\n",
       "        vertical-align: top;\n",
       "    }\n",
       "\n",
       "    .dataframe thead th {\n",
       "        text-align: right;\n",
       "    }\n",
       "</style>\n",
       "<table border=\"1\" class=\"dataframe\">\n",
       "  <thead>\n",
       "    <tr style=\"text-align: right;\">\n",
       "      <th></th>\n",
       "      <th>From Date</th>\n",
       "      <th>PM2.5</th>\n",
       "      <th>PM10</th>\n",
       "      <th>CO</th>\n",
       "      <th>NH3</th>\n",
       "      <th>NO2</th>\n",
       "      <th>SO2</th>\n",
       "    </tr>\n",
       "  </thead>\n",
       "  <tbody>\n",
       "    <tr>\n",
       "      <th>0</th>\n",
       "      <td>1/1/2016 0:00</td>\n",
       "      <td>389.33</td>\n",
       "      <td>946.17</td>\n",
       "      <td>2.91</td>\n",
       "      <td>118.86</td>\n",
       "      <td>105.57</td>\n",
       "      <td>16.83</td>\n",
       "    </tr>\n",
       "    <tr>\n",
       "      <th>1</th>\n",
       "      <td>1/1/2016 1:00</td>\n",
       "      <td>376</td>\n",
       "      <td>1117</td>\n",
       "      <td>4.13</td>\n",
       "      <td>122.08</td>\n",
       "      <td>89.07</td>\n",
       "      <td>16.42</td>\n",
       "    </tr>\n",
       "    <tr>\n",
       "      <th>2</th>\n",
       "      <td>1/1/2016 2:00</td>\n",
       "      <td>480.5</td>\n",
       "      <td>1087</td>\n",
       "      <td>3.3</td>\n",
       "      <td>132.15</td>\n",
       "      <td>91.96</td>\n",
       "      <td>16.38</td>\n",
       "    </tr>\n",
       "    <tr>\n",
       "      <th>3</th>\n",
       "      <td>1/1/2016 3:00</td>\n",
       "      <td>486.67</td>\n",
       "      <td>918.17</td>\n",
       "      <td>1.93</td>\n",
       "      <td>142.15</td>\n",
       "      <td>79.14</td>\n",
       "      <td>12.93</td>\n",
       "    </tr>\n",
       "    <tr>\n",
       "      <th>4</th>\n",
       "      <td>1/1/2016 4:00</td>\n",
       "      <td>441.17</td>\n",
       "      <td>824</td>\n",
       "      <td>2.64</td>\n",
       "      <td>176.31</td>\n",
       "      <td>91.57</td>\n",
       "      <td>14.25</td>\n",
       "    </tr>\n",
       "  </tbody>\n",
       "</table>\n",
       "</div>"
      ],
      "text/plain": [
       "       From Date   PM2.5    PM10    CO     NH3     NO2    SO2\n",
       "0  1/1/2016 0:00  389.33  946.17  2.91  118.86  105.57  16.83\n",
       "1  1/1/2016 1:00     376    1117  4.13  122.08   89.07  16.42\n",
       "2  1/1/2016 2:00   480.5    1087   3.3  132.15   91.96  16.38\n",
       "3  1/1/2016 3:00  486.67  918.17  1.93  142.15   79.14  12.93\n",
       "4  1/1/2016 4:00  441.17     824  2.64  176.31   91.57  14.25"
      ]
     },
     "execution_count": 57,
     "metadata": {},
     "output_type": "execute_result"
    }
   ],
   "source": [
    "df.head()"
   ]
  },
  {
   "cell_type": "code",
   "execution_count": null,
   "metadata": {},
   "outputs": [],
   "source": []
  },
  {
   "cell_type": "code",
   "execution_count": 58,
   "metadata": {},
   "outputs": [],
   "source": [
    "df['Date'] = pd.to_datetime(df['From Date'], format = '%d/%m/%Y %H:%M')"
   ]
  },
  {
   "cell_type": "code",
   "execution_count": 59,
   "metadata": {},
   "outputs": [],
   "source": [
    "df.drop('From Date', axis=1, inplace= True)"
   ]
  },
  {
   "cell_type": "code",
   "execution_count": 8,
   "metadata": {},
   "outputs": [],
   "source": [
    "#av2018.drop('Date', axis = 1, inplace = True)"
   ]
  },
  {
   "cell_type": "code",
   "execution_count": 60,
   "metadata": {},
   "outputs": [],
   "source": [
    "df.set_index('Date', inplace=True)"
   ]
  },
  {
   "cell_type": "code",
   "execution_count": 10,
   "metadata": {},
   "outputs": [],
   "source": [
    "#df.drop('Date', axis = 1, inplace = True)"
   ]
  },
  {
   "cell_type": "code",
   "execution_count": 61,
   "metadata": {},
   "outputs": [
    {
     "data": {
      "text/html": [
       "<div>\n",
       "<style scoped>\n",
       "    .dataframe tbody tr th:only-of-type {\n",
       "        vertical-align: middle;\n",
       "    }\n",
       "\n",
       "    .dataframe tbody tr th {\n",
       "        vertical-align: top;\n",
       "    }\n",
       "\n",
       "    .dataframe thead th {\n",
       "        text-align: right;\n",
       "    }\n",
       "</style>\n",
       "<table border=\"1\" class=\"dataframe\">\n",
       "  <thead>\n",
       "    <tr style=\"text-align: right;\">\n",
       "      <th></th>\n",
       "      <th>PM2.5</th>\n",
       "      <th>PM10</th>\n",
       "      <th>CO</th>\n",
       "      <th>NH3</th>\n",
       "      <th>NO2</th>\n",
       "      <th>SO2</th>\n",
       "    </tr>\n",
       "    <tr>\n",
       "      <th>Date</th>\n",
       "      <th></th>\n",
       "      <th></th>\n",
       "      <th></th>\n",
       "      <th></th>\n",
       "      <th></th>\n",
       "      <th></th>\n",
       "    </tr>\n",
       "  </thead>\n",
       "  <tbody>\n",
       "    <tr>\n",
       "      <th>2016-01-01 00:00:00</th>\n",
       "      <td>389.33</td>\n",
       "      <td>946.17</td>\n",
       "      <td>2.91</td>\n",
       "      <td>118.86</td>\n",
       "      <td>105.57</td>\n",
       "      <td>16.83</td>\n",
       "    </tr>\n",
       "    <tr>\n",
       "      <th>2016-01-01 01:00:00</th>\n",
       "      <td>376</td>\n",
       "      <td>1117</td>\n",
       "      <td>4.13</td>\n",
       "      <td>122.08</td>\n",
       "      <td>89.07</td>\n",
       "      <td>16.42</td>\n",
       "    </tr>\n",
       "    <tr>\n",
       "      <th>2016-01-01 02:00:00</th>\n",
       "      <td>480.5</td>\n",
       "      <td>1087</td>\n",
       "      <td>3.3</td>\n",
       "      <td>132.15</td>\n",
       "      <td>91.96</td>\n",
       "      <td>16.38</td>\n",
       "    </tr>\n",
       "    <tr>\n",
       "      <th>2016-01-01 03:00:00</th>\n",
       "      <td>486.67</td>\n",
       "      <td>918.17</td>\n",
       "      <td>1.93</td>\n",
       "      <td>142.15</td>\n",
       "      <td>79.14</td>\n",
       "      <td>12.93</td>\n",
       "    </tr>\n",
       "    <tr>\n",
       "      <th>2016-01-01 04:00:00</th>\n",
       "      <td>441.17</td>\n",
       "      <td>824</td>\n",
       "      <td>2.64</td>\n",
       "      <td>176.31</td>\n",
       "      <td>91.57</td>\n",
       "      <td>14.25</td>\n",
       "    </tr>\n",
       "  </tbody>\n",
       "</table>\n",
       "</div>"
      ],
      "text/plain": [
       "                      PM2.5    PM10    CO     NH3     NO2    SO2\n",
       "Date                                                            \n",
       "2016-01-01 00:00:00  389.33  946.17  2.91  118.86  105.57  16.83\n",
       "2016-01-01 01:00:00     376    1117  4.13  122.08   89.07  16.42\n",
       "2016-01-01 02:00:00   480.5    1087   3.3  132.15   91.96  16.38\n",
       "2016-01-01 03:00:00  486.67  918.17  1.93  142.15   79.14  12.93\n",
       "2016-01-01 04:00:00  441.17     824  2.64  176.31   91.57  14.25"
      ]
     },
     "execution_count": 61,
     "metadata": {},
     "output_type": "execute_result"
    }
   ],
   "source": [
    "df.head()"
   ]
  },
  {
   "cell_type": "code",
   "execution_count": 33,
   "metadata": {},
   "outputs": [],
   "source": [
    "#av2018.set_index(av2018['Date'], inplace = True)"
   ]
  },
  {
   "cell_type": "code",
   "execution_count": 66,
   "metadata": {},
   "outputs": [
    {
     "name": "stdout",
     "output_type": "stream",
     "text": [
      "<class 'pandas.core.frame.DataFrame'>\n",
      "DatetimeIndex: 8760 entries, 2016-01-01 00:00:00 to 2016-12-31 23:00:00\n",
      "Data columns (total 6 columns):\n",
      "PM2.5    7130 non-null float64\n",
      "PM10     7024 non-null float64\n",
      "CO       6916 non-null float64\n",
      "NH3      6873 non-null float64\n",
      "NO2      6886 non-null float64\n",
      "SO2      6817 non-null float64\n",
      "dtypes: float64(6)\n",
      "memory usage: 799.1 KB\n"
     ]
    }
   ],
   "source": [
    "df.info()"
   ]
  },
  {
   "cell_type": "code",
   "execution_count": 63,
   "metadata": {},
   "outputs": [],
   "source": [
    "df.replace('None', np.nan, inplace=True)"
   ]
  },
  {
   "cell_type": "code",
   "execution_count": 64,
   "metadata": {},
   "outputs": [],
   "source": [
    "df = df.astype(float)"
   ]
  },
  {
   "cell_type": "code",
   "execution_count": 65,
   "metadata": {},
   "outputs": [],
   "source": [
    "for i in range(0,len(df)):\n",
    "    if df['PM2.5'][i] < 0.1 :\n",
    "        df['PM2.5'][i] = 0.1"
   ]
  },
  {
   "cell_type": "code",
   "execution_count": 68,
   "metadata": {},
   "outputs": [],
   "source": [
    "for i in range(0,len(df)):\n",
    "    if df['CO'][i] < 0.1 :\n",
    "        df['CO'][i] = 0.1"
   ]
  },
  {
   "cell_type": "code",
   "execution_count": 71,
   "metadata": {},
   "outputs": [],
   "source": [
    "for i in range(0,len(df)):\n",
    "    if df['SO2'][i] < 0.1 :\n",
    "        df['SO2'][i] = 0.1"
   ]
  },
  {
   "cell_type": "code",
   "execution_count": null,
   "metadata": {},
   "outputs": [],
   "source": []
  },
  {
   "cell_type": "code",
   "execution_count": 38,
   "metadata": {},
   "outputs": [],
   "source": [
    "#df['Date'] = pd.to_datetime(df['From Date'], format = '%d/%m/%Y %H:%M')"
   ]
  },
  {
   "cell_type": "code",
   "execution_count": 40,
   "metadata": {},
   "outputs": [],
   "source": [
    "#df.drop('From Date', axis=1, inplace= True)"
   ]
  },
  {
   "cell_type": "code",
   "execution_count": 15,
   "metadata": {},
   "outputs": [],
   "source": [
    "#df.set_index('Date', inplace = True)"
   ]
  },
  {
   "cell_type": "code",
   "execution_count": 72,
   "metadata": {},
   "outputs": [
    {
     "data": {
      "text/html": [
       "<div>\n",
       "<style scoped>\n",
       "    .dataframe tbody tr th:only-of-type {\n",
       "        vertical-align: middle;\n",
       "    }\n",
       "\n",
       "    .dataframe tbody tr th {\n",
       "        vertical-align: top;\n",
       "    }\n",
       "\n",
       "    .dataframe thead th {\n",
       "        text-align: right;\n",
       "    }\n",
       "</style>\n",
       "<table border=\"1\" class=\"dataframe\">\n",
       "  <thead>\n",
       "    <tr style=\"text-align: right;\">\n",
       "      <th></th>\n",
       "      <th>PM2.5</th>\n",
       "      <th>PM10</th>\n",
       "      <th>CO</th>\n",
       "      <th>NH3</th>\n",
       "      <th>NO2</th>\n",
       "      <th>SO2</th>\n",
       "    </tr>\n",
       "    <tr>\n",
       "      <th>Date</th>\n",
       "      <th></th>\n",
       "      <th></th>\n",
       "      <th></th>\n",
       "      <th></th>\n",
       "      <th></th>\n",
       "      <th></th>\n",
       "    </tr>\n",
       "  </thead>\n",
       "  <tbody>\n",
       "    <tr>\n",
       "      <th>2016-01-01 00:00:00</th>\n",
       "      <td>389.33</td>\n",
       "      <td>946.17</td>\n",
       "      <td>2.91</td>\n",
       "      <td>118.86</td>\n",
       "      <td>105.57</td>\n",
       "      <td>16.83</td>\n",
       "    </tr>\n",
       "    <tr>\n",
       "      <th>2016-01-01 01:00:00</th>\n",
       "      <td>376.00</td>\n",
       "      <td>1117.00</td>\n",
       "      <td>4.13</td>\n",
       "      <td>122.08</td>\n",
       "      <td>89.07</td>\n",
       "      <td>16.42</td>\n",
       "    </tr>\n",
       "    <tr>\n",
       "      <th>2016-01-01 02:00:00</th>\n",
       "      <td>480.50</td>\n",
       "      <td>1087.00</td>\n",
       "      <td>3.30</td>\n",
       "      <td>132.15</td>\n",
       "      <td>91.96</td>\n",
       "      <td>16.38</td>\n",
       "    </tr>\n",
       "    <tr>\n",
       "      <th>2016-01-01 03:00:00</th>\n",
       "      <td>486.67</td>\n",
       "      <td>918.17</td>\n",
       "      <td>1.93</td>\n",
       "      <td>142.15</td>\n",
       "      <td>79.14</td>\n",
       "      <td>12.93</td>\n",
       "    </tr>\n",
       "    <tr>\n",
       "      <th>2016-01-01 04:00:00</th>\n",
       "      <td>441.17</td>\n",
       "      <td>824.00</td>\n",
       "      <td>2.64</td>\n",
       "      <td>176.31</td>\n",
       "      <td>91.57</td>\n",
       "      <td>14.25</td>\n",
       "    </tr>\n",
       "  </tbody>\n",
       "</table>\n",
       "</div>"
      ],
      "text/plain": [
       "                      PM2.5     PM10    CO     NH3     NO2    SO2\n",
       "Date                                                             \n",
       "2016-01-01 00:00:00  389.33   946.17  2.91  118.86  105.57  16.83\n",
       "2016-01-01 01:00:00  376.00  1117.00  4.13  122.08   89.07  16.42\n",
       "2016-01-01 02:00:00  480.50  1087.00  3.30  132.15   91.96  16.38\n",
       "2016-01-01 03:00:00  486.67   918.17  1.93  142.15   79.14  12.93\n",
       "2016-01-01 04:00:00  441.17   824.00  2.64  176.31   91.57  14.25"
      ]
     },
     "execution_count": 72,
     "metadata": {},
     "output_type": "execute_result"
    }
   ],
   "source": [
    "df.head()"
   ]
  },
  {
   "cell_type": "code",
   "execution_count": 73,
   "metadata": {},
   "outputs": [],
   "source": [
    "test = df['PM2.5'][df.index > '2016-12-15 01:00']"
   ]
  },
  {
   "cell_type": "code",
   "execution_count": 74,
   "metadata": {},
   "outputs": [
    {
     "data": {
      "text/plain": [
       "Date\n",
       "2016-12-15 02:00:00    196.17\n",
       "2016-12-15 03:00:00    197.00\n",
       "2016-12-15 04:00:00    188.33\n",
       "2016-12-15 05:00:00    150.83\n",
       "2016-12-15 06:00:00    184.17\n",
       "Name: PM2.5, dtype: float64"
      ]
     },
     "execution_count": 74,
     "metadata": {},
     "output_type": "execute_result"
    }
   ],
   "source": [
    "test.head()"
   ]
  },
  {
   "cell_type": "code",
   "execution_count": 75,
   "metadata": {},
   "outputs": [
    {
     "data": {
      "text/plain": [
       "0"
      ]
     },
     "execution_count": 75,
     "metadata": {},
     "output_type": "execute_result"
    }
   ],
   "source": [
    "test.isnull().sum()"
   ]
  },
  {
   "cell_type": "code",
   "execution_count": 76,
   "metadata": {},
   "outputs": [],
   "source": [
    "df['PM2.5'][df.index > '2016-12-15 01:00'] = np.nan"
   ]
  },
  {
   "cell_type": "code",
   "execution_count": 77,
   "metadata": {},
   "outputs": [
    {
     "data": {
      "text/html": [
       "<div>\n",
       "<style scoped>\n",
       "    .dataframe tbody tr th:only-of-type {\n",
       "        vertical-align: middle;\n",
       "    }\n",
       "\n",
       "    .dataframe tbody tr th {\n",
       "        vertical-align: top;\n",
       "    }\n",
       "\n",
       "    .dataframe thead th {\n",
       "        text-align: right;\n",
       "    }\n",
       "</style>\n",
       "<table border=\"1\" class=\"dataframe\">\n",
       "  <thead>\n",
       "    <tr style=\"text-align: right;\">\n",
       "      <th></th>\n",
       "      <th>PM2.5</th>\n",
       "      <th>PM10</th>\n",
       "      <th>CO</th>\n",
       "      <th>NH3</th>\n",
       "      <th>NO2</th>\n",
       "      <th>SO2</th>\n",
       "    </tr>\n",
       "    <tr>\n",
       "      <th>Date</th>\n",
       "      <th></th>\n",
       "      <th></th>\n",
       "      <th></th>\n",
       "      <th></th>\n",
       "      <th></th>\n",
       "      <th></th>\n",
       "    </tr>\n",
       "  </thead>\n",
       "  <tbody>\n",
       "    <tr>\n",
       "      <th>2016-12-31 19:00:00</th>\n",
       "      <td>NaN</td>\n",
       "      <td>436.17</td>\n",
       "      <td>4.19</td>\n",
       "      <td>116.53</td>\n",
       "      <td>116.05</td>\n",
       "      <td>24.55</td>\n",
       "    </tr>\n",
       "    <tr>\n",
       "      <th>2016-12-31 20:00:00</th>\n",
       "      <td>NaN</td>\n",
       "      <td>412.50</td>\n",
       "      <td>3.58</td>\n",
       "      <td>77.62</td>\n",
       "      <td>89.39</td>\n",
       "      <td>23.36</td>\n",
       "    </tr>\n",
       "    <tr>\n",
       "      <th>2016-12-31 21:00:00</th>\n",
       "      <td>NaN</td>\n",
       "      <td>360.33</td>\n",
       "      <td>3.42</td>\n",
       "      <td>74.07</td>\n",
       "      <td>88.17</td>\n",
       "      <td>23.35</td>\n",
       "    </tr>\n",
       "    <tr>\n",
       "      <th>2016-12-31 22:00:00</th>\n",
       "      <td>NaN</td>\n",
       "      <td>324.17</td>\n",
       "      <td>2.96</td>\n",
       "      <td>76.58</td>\n",
       "      <td>86.51</td>\n",
       "      <td>22.06</td>\n",
       "    </tr>\n",
       "    <tr>\n",
       "      <th>2016-12-31 23:00:00</th>\n",
       "      <td>NaN</td>\n",
       "      <td>254.50</td>\n",
       "      <td>2.70</td>\n",
       "      <td>75.73</td>\n",
       "      <td>81.53</td>\n",
       "      <td>21.79</td>\n",
       "    </tr>\n",
       "  </tbody>\n",
       "</table>\n",
       "</div>"
      ],
      "text/plain": [
       "                     PM2.5    PM10    CO     NH3     NO2    SO2\n",
       "Date                                                           \n",
       "2016-12-31 19:00:00    NaN  436.17  4.19  116.53  116.05  24.55\n",
       "2016-12-31 20:00:00    NaN  412.50  3.58   77.62   89.39  23.36\n",
       "2016-12-31 21:00:00    NaN  360.33  3.42   74.07   88.17  23.35\n",
       "2016-12-31 22:00:00    NaN  324.17  2.96   76.58   86.51  22.06\n",
       "2016-12-31 23:00:00    NaN  254.50  2.70   75.73   81.53  21.79"
      ]
     },
     "execution_count": 77,
     "metadata": {},
     "output_type": "execute_result"
    }
   ],
   "source": [
    "df.tail()"
   ]
  },
  {
   "cell_type": "code",
   "execution_count": null,
   "metadata": {},
   "outputs": [],
   "source": []
  },
  {
   "cell_type": "code",
   "execution_count": 78,
   "metadata": {},
   "outputs": [],
   "source": [
    "df = df.assign(InterpolateLinear=df['PM2.5'].interpolate(method='linear'))"
   ]
  },
  {
   "cell_type": "code",
   "execution_count": 17,
   "metadata": {
    "scrolled": true
   },
   "outputs": [
    {
     "ename": "NameError",
     "evalue": "name 'df_pol' is not defined",
     "output_type": "error",
     "traceback": [
      "\u001b[1;31m---------------------------------------------------------------------------\u001b[0m",
      "\u001b[1;31mNameError\u001b[0m                                 Traceback (most recent call last)",
      "\u001b[1;32m<ipython-input-17-ef55fef0a0de>\u001b[0m in \u001b[0;36m<module>\u001b[1;34m()\u001b[0m\n\u001b[1;32m----> 1\u001b[1;33m \u001b[0mdf_pol\u001b[0m\u001b[1;33m[\u001b[0m\u001b[0mdf_pol\u001b[0m\u001b[1;33m.\u001b[0m\u001b[0mindex\u001b[0m \u001b[1;33m>\u001b[0m \u001b[1;34m'2018-05-01 01:00'\u001b[0m\u001b[1;33m]\u001b[0m\u001b[1;33m\u001b[0m\u001b[0m\n\u001b[0m",
      "\u001b[1;31mNameError\u001b[0m: name 'df_pol' is not defined"
     ]
    }
   ],
   "source": [
    "df_pol[df_pol.index > '2018-05-01 01:00']"
   ]
  },
  {
   "cell_type": "code",
   "execution_count": 129,
   "metadata": {
    "scrolled": true
   },
   "outputs": [],
   "source": [
    "df = df.assign(InterpolateSpline=df['PM2.5'].interpolate(method='spline', order = 1))"
   ]
  },
  {
   "cell_type": "code",
   "execution_count": 20,
   "metadata": {
    "scrolled": true
   },
   "outputs": [],
   "source": [
    "#df_spline[df_spline.index > '2014-05-01 00:00']"
   ]
  },
  {
   "cell_type": "code",
   "execution_count": null,
   "metadata": {},
   "outputs": [],
   "source": []
  },
  {
   "cell_type": "code",
   "execution_count": 80,
   "metadata": {},
   "outputs": [],
   "source": [
    "df = df.assign(RollingMedian=df['PM2.5'].fillna(df['PM2.5'].rolling(24,min_periods=1,).median()))"
   ]
  },
  {
   "cell_type": "code",
   "execution_count": 81,
   "metadata": {},
   "outputs": [],
   "source": [
    "df = df.assign(InterpolateTime=df['PM2.5'].interpolate(method='time'))"
   ]
  },
  {
   "cell_type": "code",
   "execution_count": 82,
   "metadata": {},
   "outputs": [],
   "source": [
    "#df_time[df_time.index > '2014-05-01 01:00']"
   ]
  },
  {
   "cell_type": "code",
   "execution_count": 65,
   "metadata": {},
   "outputs": [],
   "source": [
    "df_time.drop(columns= 'InterpolateSLinear2', inplace=True)"
   ]
  },
  {
   "cell_type": "code",
   "execution_count": 171,
   "metadata": {},
   "outputs": [],
   "source": [
    "df_result = df[df.index > '2016-12-15 01:00']"
   ]
  },
  {
   "cell_type": "code",
   "execution_count": 68,
   "metadata": {},
   "outputs": [],
   "source": [
    "df_result1 = df_result1[df_result1.index < '2016-07-08 12:00']"
   ]
  },
  {
   "cell_type": "code",
   "execution_count": 192,
   "metadata": {},
   "outputs": [
    {
     "name": "stderr",
     "output_type": "stream",
     "text": [
      "C:\\Users\\user\\Anaconda3\\lib\\site-packages\\pandas\\core\\frame.py:3694: SettingWithCopyWarning: \n",
      "A value is trying to be set on a copy of a slice from a DataFrame\n",
      "\n",
      "See the caveats in the documentation: http://pandas.pydata.org/pandas-docs/stable/indexing.html#indexing-view-versus-copy\n",
      "  errors=errors)\n"
     ]
    }
   ],
   "source": [
    "df_result.drop(columns=['Interpolate_KNN'], inplace=True)"
   ]
  },
  {
   "cell_type": "code",
   "execution_count": 188,
   "metadata": {},
   "outputs": [],
   "source": [
    "col = ['InterpolateCubic', 'InterpolateAkima']"
   ]
  },
  {
   "cell_type": "code",
   "execution_count": 189,
   "metadata": {},
   "outputs": [
    {
     "name": "stderr",
     "output_type": "stream",
     "text": [
      "C:\\Users\\user\\Anaconda3\\lib\\site-packages\\pandas\\core\\frame.py:3694: SettingWithCopyWarning: \n",
      "A value is trying to be set on a copy of a slice from a DataFrame\n",
      "\n",
      "See the caveats in the documentation: http://pandas.pydata.org/pandas-docs/stable/indexing.html#indexing-view-versus-copy\n",
      "  errors=errors)\n"
     ]
    }
   ],
   "source": [
    "df_result.drop(columns= col, inplace=True)"
   ]
  },
  {
   "cell_type": "code",
   "execution_count": 179,
   "metadata": {},
   "outputs": [
    {
     "name": "stderr",
     "output_type": "stream",
     "text": [
      "C:\\Users\\user\\Anaconda3\\lib\\site-packages\\ipykernel_launcher.py:1: SettingWithCopyWarning: \n",
      "A value is trying to be set on a copy of a slice from a DataFrame.\n",
      "Try using .loc[row_indexer,col_indexer] = value instead\n",
      "\n",
      "See the caveats in the documentation: http://pandas.pydata.org/pandas-docs/stable/indexing.html#indexing-view-versus-copy\n",
      "  \"\"\"Entry point for launching an IPython kernel.\n"
     ]
    }
   ],
   "source": [
    "df_result['Actual'] = test.values"
   ]
  },
  {
   "cell_type": "code",
   "execution_count": 193,
   "metadata": {},
   "outputs": [
    {
     "data": {
      "text/html": [
       "<div>\n",
       "<style scoped>\n",
       "    .dataframe tbody tr th:only-of-type {\n",
       "        vertical-align: middle;\n",
       "    }\n",
       "\n",
       "    .dataframe tbody tr th {\n",
       "        vertical-align: top;\n",
       "    }\n",
       "\n",
       "    .dataframe thead th {\n",
       "        text-align: right;\n",
       "    }\n",
       "</style>\n",
       "<table border=\"1\" class=\"dataframe\">\n",
       "  <thead>\n",
       "    <tr style=\"text-align: right;\">\n",
       "      <th></th>\n",
       "      <th>PM2.5</th>\n",
       "      <th>PM10</th>\n",
       "      <th>CO</th>\n",
       "      <th>NH3</th>\n",
       "      <th>NO2</th>\n",
       "      <th>SO2</th>\n",
       "      <th>InterpolateLinear</th>\n",
       "      <th>InterpolateTime</th>\n",
       "      <th>pm2.5_mice</th>\n",
       "      <th>InterpolateSpline</th>\n",
       "      <th>InterpolateSpline3</th>\n",
       "      <th>Interpolate_EM</th>\n",
       "      <th>Actual</th>\n",
       "    </tr>\n",
       "    <tr>\n",
       "      <th>Date</th>\n",
       "      <th></th>\n",
       "      <th></th>\n",
       "      <th></th>\n",
       "      <th></th>\n",
       "      <th></th>\n",
       "      <th></th>\n",
       "      <th></th>\n",
       "      <th></th>\n",
       "      <th></th>\n",
       "      <th></th>\n",
       "      <th></th>\n",
       "      <th></th>\n",
       "      <th></th>\n",
       "    </tr>\n",
       "  </thead>\n",
       "  <tbody>\n",
       "    <tr>\n",
       "      <th>2016-12-31 14:00:00</th>\n",
       "      <td>NaN</td>\n",
       "      <td>313.50</td>\n",
       "      <td>2.48</td>\n",
       "      <td>61.00</td>\n",
       "      <td>77.08</td>\n",
       "      <td>20.09</td>\n",
       "      <td>196.0</td>\n",
       "      <td>196.0</td>\n",
       "      <td>168.271860</td>\n",
       "      <td>-18642.966171</td>\n",
       "      <td>-8.520695e+07</td>\n",
       "      <td>70.234309</td>\n",
       "      <td>185.67</td>\n",
       "    </tr>\n",
       "    <tr>\n",
       "      <th>2016-12-31 15:00:00</th>\n",
       "      <td>NaN</td>\n",
       "      <td>221.00</td>\n",
       "      <td>2.50</td>\n",
       "      <td>67.24</td>\n",
       "      <td>79.26</td>\n",
       "      <td>19.80</td>\n",
       "      <td>196.0</td>\n",
       "      <td>196.0</td>\n",
       "      <td>181.153914</td>\n",
       "      <td>-18690.419539</td>\n",
       "      <td>-8.584475e+07</td>\n",
       "      <td>13.449117</td>\n",
       "      <td>111.17</td>\n",
       "    </tr>\n",
       "    <tr>\n",
       "      <th>2016-12-31 16:00:00</th>\n",
       "      <td>NaN</td>\n",
       "      <td>253.17</td>\n",
       "      <td>2.73</td>\n",
       "      <td>85.09</td>\n",
       "      <td>94.65</td>\n",
       "      <td>20.15</td>\n",
       "      <td>196.0</td>\n",
       "      <td>196.0</td>\n",
       "      <td>229.654795</td>\n",
       "      <td>-18737.872907</td>\n",
       "      <td>-8.648572e+07</td>\n",
       "      <td>103.885414</td>\n",
       "      <td>126.33</td>\n",
       "    </tr>\n",
       "    <tr>\n",
       "      <th>2016-12-31 17:00:00</th>\n",
       "      <td>NaN</td>\n",
       "      <td>306.17</td>\n",
       "      <td>3.07</td>\n",
       "      <td>108.95</td>\n",
       "      <td>104.55</td>\n",
       "      <td>20.10</td>\n",
       "      <td>196.0</td>\n",
       "      <td>196.0</td>\n",
       "      <td>286.031317</td>\n",
       "      <td>-18785.326275</td>\n",
       "      <td>-8.712988e+07</td>\n",
       "      <td>233.331425</td>\n",
       "      <td>152.33</td>\n",
       "    </tr>\n",
       "    <tr>\n",
       "      <th>2016-12-31 18:00:00</th>\n",
       "      <td>NaN</td>\n",
       "      <td>399.83</td>\n",
       "      <td>3.51</td>\n",
       "      <td>117.99</td>\n",
       "      <td>111.49</td>\n",
       "      <td>23.12</td>\n",
       "      <td>196.0</td>\n",
       "      <td>196.0</td>\n",
       "      <td>317.641567</td>\n",
       "      <td>-18832.779643</td>\n",
       "      <td>-8.777722e+07</td>\n",
       "      <td>46.581959</td>\n",
       "      <td>190.83</td>\n",
       "    </tr>\n",
       "    <tr>\n",
       "      <th>2016-12-31 19:00:00</th>\n",
       "      <td>NaN</td>\n",
       "      <td>436.17</td>\n",
       "      <td>4.19</td>\n",
       "      <td>116.53</td>\n",
       "      <td>116.05</td>\n",
       "      <td>24.55</td>\n",
       "      <td>196.0</td>\n",
       "      <td>196.0</td>\n",
       "      <td>333.402170</td>\n",
       "      <td>-18880.233012</td>\n",
       "      <td>-8.842776e+07</td>\n",
       "      <td>148.602392</td>\n",
       "      <td>274.17</td>\n",
       "    </tr>\n",
       "    <tr>\n",
       "      <th>2016-12-31 20:00:00</th>\n",
       "      <td>NaN</td>\n",
       "      <td>412.50</td>\n",
       "      <td>3.58</td>\n",
       "      <td>77.62</td>\n",
       "      <td>89.39</td>\n",
       "      <td>23.36</td>\n",
       "      <td>196.0</td>\n",
       "      <td>196.0</td>\n",
       "      <td>231.036495</td>\n",
       "      <td>-18927.686380</td>\n",
       "      <td>-8.908151e+07</td>\n",
       "      <td>321.302461</td>\n",
       "      <td>259.17</td>\n",
       "    </tr>\n",
       "    <tr>\n",
       "      <th>2016-12-31 21:00:00</th>\n",
       "      <td>NaN</td>\n",
       "      <td>360.33</td>\n",
       "      <td>3.42</td>\n",
       "      <td>74.07</td>\n",
       "      <td>88.17</td>\n",
       "      <td>23.35</td>\n",
       "      <td>196.0</td>\n",
       "      <td>196.0</td>\n",
       "      <td>220.616978</td>\n",
       "      <td>-18975.139748</td>\n",
       "      <td>-8.973847e+07</td>\n",
       "      <td>17.775675</td>\n",
       "      <td>213.67</td>\n",
       "    </tr>\n",
       "    <tr>\n",
       "      <th>2016-12-31 22:00:00</th>\n",
       "      <td>NaN</td>\n",
       "      <td>324.17</td>\n",
       "      <td>2.96</td>\n",
       "      <td>76.58</td>\n",
       "      <td>86.51</td>\n",
       "      <td>22.06</td>\n",
       "      <td>196.0</td>\n",
       "      <td>196.0</td>\n",
       "      <td>213.642078</td>\n",
       "      <td>-19022.593116</td>\n",
       "      <td>-9.039866e+07</td>\n",
       "      <td>63.391838</td>\n",
       "      <td>244.67</td>\n",
       "    </tr>\n",
       "    <tr>\n",
       "      <th>2016-12-31 23:00:00</th>\n",
       "      <td>NaN</td>\n",
       "      <td>254.50</td>\n",
       "      <td>2.70</td>\n",
       "      <td>75.73</td>\n",
       "      <td>81.53</td>\n",
       "      <td>21.79</td>\n",
       "      <td>196.0</td>\n",
       "      <td>196.0</td>\n",
       "      <td>202.594987</td>\n",
       "      <td>-19070.046484</td>\n",
       "      <td>-9.106207e+07</td>\n",
       "      <td>26.294102</td>\n",
       "      <td>179.50</td>\n",
       "    </tr>\n",
       "  </tbody>\n",
       "</table>\n",
       "</div>"
      ],
      "text/plain": [
       "                     PM2.5    PM10    CO     NH3     NO2    SO2  \\\n",
       "Date                                                              \n",
       "2016-12-31 14:00:00    NaN  313.50  2.48   61.00   77.08  20.09   \n",
       "2016-12-31 15:00:00    NaN  221.00  2.50   67.24   79.26  19.80   \n",
       "2016-12-31 16:00:00    NaN  253.17  2.73   85.09   94.65  20.15   \n",
       "2016-12-31 17:00:00    NaN  306.17  3.07  108.95  104.55  20.10   \n",
       "2016-12-31 18:00:00    NaN  399.83  3.51  117.99  111.49  23.12   \n",
       "2016-12-31 19:00:00    NaN  436.17  4.19  116.53  116.05  24.55   \n",
       "2016-12-31 20:00:00    NaN  412.50  3.58   77.62   89.39  23.36   \n",
       "2016-12-31 21:00:00    NaN  360.33  3.42   74.07   88.17  23.35   \n",
       "2016-12-31 22:00:00    NaN  324.17  2.96   76.58   86.51  22.06   \n",
       "2016-12-31 23:00:00    NaN  254.50  2.70   75.73   81.53  21.79   \n",
       "\n",
       "                     InterpolateLinear  InterpolateTime  pm2.5_mice  \\\n",
       "Date                                                                  \n",
       "2016-12-31 14:00:00              196.0            196.0  168.271860   \n",
       "2016-12-31 15:00:00              196.0            196.0  181.153914   \n",
       "2016-12-31 16:00:00              196.0            196.0  229.654795   \n",
       "2016-12-31 17:00:00              196.0            196.0  286.031317   \n",
       "2016-12-31 18:00:00              196.0            196.0  317.641567   \n",
       "2016-12-31 19:00:00              196.0            196.0  333.402170   \n",
       "2016-12-31 20:00:00              196.0            196.0  231.036495   \n",
       "2016-12-31 21:00:00              196.0            196.0  220.616978   \n",
       "2016-12-31 22:00:00              196.0            196.0  213.642078   \n",
       "2016-12-31 23:00:00              196.0            196.0  202.594987   \n",
       "\n",
       "                     InterpolateSpline  InterpolateSpline3  Interpolate_EM  \\\n",
       "Date                                                                         \n",
       "2016-12-31 14:00:00      -18642.966171       -8.520695e+07       70.234309   \n",
       "2016-12-31 15:00:00      -18690.419539       -8.584475e+07       13.449117   \n",
       "2016-12-31 16:00:00      -18737.872907       -8.648572e+07      103.885414   \n",
       "2016-12-31 17:00:00      -18785.326275       -8.712988e+07      233.331425   \n",
       "2016-12-31 18:00:00      -18832.779643       -8.777722e+07       46.581959   \n",
       "2016-12-31 19:00:00      -18880.233012       -8.842776e+07      148.602392   \n",
       "2016-12-31 20:00:00      -18927.686380       -8.908151e+07      321.302461   \n",
       "2016-12-31 21:00:00      -18975.139748       -8.973847e+07       17.775675   \n",
       "2016-12-31 22:00:00      -19022.593116       -9.039866e+07       63.391838   \n",
       "2016-12-31 23:00:00      -19070.046484       -9.106207e+07       26.294102   \n",
       "\n",
       "                     Actual  \n",
       "Date                         \n",
       "2016-12-31 14:00:00  185.67  \n",
       "2016-12-31 15:00:00  111.17  \n",
       "2016-12-31 16:00:00  126.33  \n",
       "2016-12-31 17:00:00  152.33  \n",
       "2016-12-31 18:00:00  190.83  \n",
       "2016-12-31 19:00:00  274.17  \n",
       "2016-12-31 20:00:00  259.17  \n",
       "2016-12-31 21:00:00  213.67  \n",
       "2016-12-31 22:00:00  244.67  \n",
       "2016-12-31 23:00:00  179.50  "
      ]
     },
     "execution_count": 193,
     "metadata": {},
     "output_type": "execute_result"
    }
   ],
   "source": [
    "df_result.tail(10)"
   ]
  },
  {
   "cell_type": "code",
   "execution_count": 136,
   "metadata": {},
   "outputs": [],
   "source": [
    "df = df.assign(InterpolateQuadratic=df['PM2.5'].interpolate(method='quadratic'))"
   ]
  },
  {
   "cell_type": "code",
   "execution_count": 137,
   "metadata": {},
   "outputs": [],
   "source": [
    "df = df.assign(InterpolateCubic=df['PM2.5'].interpolate(method='cubic'))"
   ]
  },
  {
   "cell_type": "code",
   "execution_count": 138,
   "metadata": {},
   "outputs": [],
   "source": [
    "df = df.assign(InterpolateAkima=df['PM2.5'].interpolate(method='akima'))"
   ]
  },
  {
   "cell_type": "code",
   "execution_count": 139,
   "metadata": {},
   "outputs": [],
   "source": [
    "df = df.assign(InterpolatePoly5=df['PM2.5'].interpolate(method='polynomial', order=5))"
   ]
  },
  {
   "cell_type": "code",
   "execution_count": 140,
   "metadata": {},
   "outputs": [],
   "source": [
    "df = df.assign(InterpolateSpline3=df['PM2.5'].interpolate(method='spline', order=3))"
   ]
  },
  {
   "cell_type": "code",
   "execution_count": null,
   "metadata": {},
   "outputs": [],
   "source": []
  },
  {
   "cell_type": "code",
   "execution_count": null,
   "metadata": {},
   "outputs": [],
   "source": []
  },
  {
   "cell_type": "code",
   "execution_count": 194,
   "metadata": {},
   "outputs": [
    {
     "data": {
      "text/html": [
       "<div>\n",
       "<style scoped>\n",
       "    .dataframe tbody tr th:only-of-type {\n",
       "        vertical-align: middle;\n",
       "    }\n",
       "\n",
       "    .dataframe tbody tr th {\n",
       "        vertical-align: top;\n",
       "    }\n",
       "\n",
       "    .dataframe thead th {\n",
       "        text-align: right;\n",
       "    }\n",
       "</style>\n",
       "<table border=\"1\" class=\"dataframe\">\n",
       "  <thead>\n",
       "    <tr style=\"text-align: right;\">\n",
       "      <th></th>\n",
       "      <th>Method</th>\n",
       "      <th>R_squared</th>\n",
       "    </tr>\n",
       "  </thead>\n",
       "  <tbody>\n",
       "    <tr>\n",
       "      <th>6</th>\n",
       "      <td>Actual</td>\n",
       "      <td>1.0</td>\n",
       "    </tr>\n",
       "    <tr>\n",
       "      <th>2</th>\n",
       "      <td>pm2.5_mice</td>\n",
       "      <td>0.5463666947083892</td>\n",
       "    </tr>\n",
       "    <tr>\n",
       "      <th>3</th>\n",
       "      <td>InterpolateSpline</td>\n",
       "      <td>-5742.326514990267</td>\n",
       "    </tr>\n",
       "    <tr>\n",
       "      <th>4</th>\n",
       "      <td>InterpolateSpline3</td>\n",
       "      <td>-55102238069.55379</td>\n",
       "    </tr>\n",
       "    <tr>\n",
       "      <th>5</th>\n",
       "      <td>Interpolate_EM</td>\n",
       "      <td>-2.3223592891045177</td>\n",
       "    </tr>\n",
       "    <tr>\n",
       "      <th>0</th>\n",
       "      <td>InterpolateLinear</td>\n",
       "      <td>-0.3289396018361257</td>\n",
       "    </tr>\n",
       "    <tr>\n",
       "      <th>1</th>\n",
       "      <td>InterpolateTime</td>\n",
       "      <td>-0.3289396018361257</td>\n",
       "    </tr>\n",
       "  </tbody>\n",
       "</table>\n",
       "</div>"
      ],
      "text/plain": [
       "               Method            R_squared\n",
       "6              Actual                  1.0\n",
       "2          pm2.5_mice   0.5463666947083892\n",
       "3   InterpolateSpline   -5742.326514990267\n",
       "4  InterpolateSpline3   -55102238069.55379\n",
       "5      Interpolate_EM  -2.3223592891045177\n",
       "0   InterpolateLinear  -0.3289396018361257\n",
       "1     InterpolateTime  -0.3289396018361257"
      ]
     },
     "execution_count": 194,
     "metadata": {},
     "output_type": "execute_result"
    }
   ],
   "source": [
    "results_PM = [(method, r2_score(test, df_result[method])) for method in list(df_result)[6::1]]\n",
    "results_df = pd.DataFrame(np.array(results_PM), columns=['Method', 'R_squared'])\n",
    "results_df.sort_values(by='R_squared', ascending=False)"
   ]
  },
  {
   "cell_type": "code",
   "execution_count": 80,
   "metadata": {},
   "outputs": [],
   "source": [
    "df_time.to_csv('interpolate1.csv')"
   ]
  },
  {
   "cell_type": "markdown",
   "metadata": {},
   "source": [
    "## IMPYUTE "
   ]
  },
  {
   "cell_type": "code",
   "execution_count": 26,
   "metadata": {},
   "outputs": [],
   "source": [
    "import impyute as impy"
   ]
  },
  {
   "cell_type": "code",
   "execution_count": 146,
   "metadata": {},
   "outputs": [],
   "source": [
    "pm25 = df[['PM2.5']]"
   ]
  },
  {
   "cell_type": "code",
   "execution_count": null,
   "metadata": {},
   "outputs": [],
   "source": [
    "pm = pm.astype(float)"
   ]
  },
  {
   "cell_type": "code",
   "execution_count": 84,
   "metadata": {},
   "outputs": [],
   "source": [
    "pm = df[['NO2','CO','PM2.5','NH3', 'SO2']]"
   ]
  },
  {
   "cell_type": "code",
   "execution_count": 85,
   "metadata": {},
   "outputs": [],
   "source": [
    "# reshape 1D array\n",
    "from numpy import array\n",
    "from numpy import reshape\n"
   ]
  },
  {
   "cell_type": "code",
   "execution_count": 147,
   "metadata": {},
   "outputs": [
    {
     "name": "stdout",
     "output_type": "stream",
     "text": [
      "(8760, 1)\n"
     ]
    }
   ],
   "source": [
    "# define array\n",
    "data = array(pm25)\n",
    "print(data.shape)"
   ]
  },
  {
   "cell_type": "code",
   "execution_count": 87,
   "metadata": {},
   "outputs": [
    {
     "data": {
      "text/plain": [
       "array([[105.57,   2.91, 389.33, 118.86,  16.83],\n",
       "       [ 89.07,   4.13, 376.  , 122.08,  16.42],\n",
       "       [ 91.96,   3.3 , 480.5 , 132.15,  16.38],\n",
       "       ...,\n",
       "       [ 88.17,   3.42,    nan,  74.07,  23.35],\n",
       "       [ 86.51,   2.96,    nan,  76.58,  22.06],\n",
       "       [ 81.53,   2.7 ,    nan,  75.73,  21.79]])"
      ]
     },
     "execution_count": 87,
     "metadata": {},
     "output_type": "execute_result"
    }
   ],
   "source": [
    "data"
   ]
  },
  {
   "cell_type": "code",
   "execution_count": 150,
   "metadata": {},
   "outputs": [],
   "source": [
    "pm_EM = impy.imputation.cs.em(data)"
   ]
  },
  {
   "cell_type": "code",
   "execution_count": 151,
   "metadata": {},
   "outputs": [
    {
     "name": "stderr",
     "output_type": "stream",
     "text": [
      "C:\\Users\\user\\Anaconda3\\lib\\site-packages\\impyute\\imputation\\cs\\fast_knn.py:113: RuntimeWarning: invalid value encountered in true_divide\n",
      "  weights = distances/np.sum(distances)\n"
     ]
    }
   ],
   "source": [
    "pm_knn = impy.imputation.cs.fast_knn(data)"
   ]
  },
  {
   "cell_type": "code",
   "execution_count": 157,
   "metadata": {},
   "outputs": [],
   "source": [
    "df['Interpolate_EM'] = ''"
   ]
  },
  {
   "cell_type": "code",
   "execution_count": 158,
   "metadata": {},
   "outputs": [],
   "source": [
    "df['Interpolate_KNN'] = ''"
   ]
  },
  {
   "cell_type": "code",
   "execution_count": 159,
   "metadata": {},
   "outputs": [],
   "source": [
    "df['Interpolate_EM'] = pm_EM"
   ]
  },
  {
   "cell_type": "code",
   "execution_count": 160,
   "metadata": {},
   "outputs": [],
   "source": [
    "df['Interpolate_KNN'] = pm_knn"
   ]
  },
  {
   "cell_type": "code",
   "execution_count": 161,
   "metadata": {},
   "outputs": [
    {
     "name": "stdout",
     "output_type": "stream",
     "text": [
      "<class 'pandas.core.frame.DataFrame'>\n",
      "DatetimeIndex: 8760 entries, 2016-01-01 00:00:00 to 2016-12-31 23:00:00\n",
      "Data columns (total 17 columns):\n",
      "PM2.5                   6724 non-null float64\n",
      "PM10                    7024 non-null float64\n",
      "CO                      6916 non-null float64\n",
      "NH3                     6873 non-null float64\n",
      "NO2                     6886 non-null float64\n",
      "SO2                     6817 non-null float64\n",
      "InterpolateLinear       8760 non-null float64\n",
      "InterpolateTime         8760 non-null float64\n",
      "pm2.5_mice              8760 non-null float64\n",
      "InterpolateSpline       8760 non-null float64\n",
      "InterpolateQuadratic    8354 non-null float64\n",
      "InterpolateCubic        8354 non-null float64\n",
      "InterpolateAkima        8354 non-null float64\n",
      "InterpolatePoly5        8354 non-null float64\n",
      "InterpolateSpline3      8760 non-null float64\n",
      "Interpolate_EM          8760 non-null float64\n",
      "Interpolate_KNN         6726 non-null float64\n",
      "dtypes: float64(17)\n",
      "memory usage: 1.2 MB\n"
     ]
    }
   ],
   "source": [
    "df.info()"
   ]
  },
  {
   "cell_type": "code",
   "execution_count": 89,
   "metadata": {},
   "outputs": [],
   "source": [
    "pm = impy.imputation.cs.mice(data)"
   ]
  },
  {
   "cell_type": "code",
   "execution_count": 60,
   "metadata": {},
   "outputs": [],
   "source": [
    "pm = impy.imputation.cs.(data)"
   ]
  },
  {
   "cell_type": "code",
   "execution_count": null,
   "metadata": {},
   "outputs": [],
   "source": []
  },
  {
   "cell_type": "code",
   "execution_count": 75,
   "metadata": {},
   "outputs": [
    {
     "data": {
      "text/html": [
       "<div>\n",
       "<style scoped>\n",
       "    .dataframe tbody tr th:only-of-type {\n",
       "        vertical-align: middle;\n",
       "    }\n",
       "\n",
       "    .dataframe tbody tr th {\n",
       "        vertical-align: top;\n",
       "    }\n",
       "\n",
       "    .dataframe thead th {\n",
       "        text-align: right;\n",
       "    }\n",
       "</style>\n",
       "<table border=\"1\" class=\"dataframe\">\n",
       "  <thead>\n",
       "    <tr style=\"text-align: right;\">\n",
       "      <th></th>\n",
       "      <th>NO2</th>\n",
       "      <th>CO</th>\n",
       "      <th>PM2.5</th>\n",
       "      <th>NH3</th>\n",
       "      <th>SO2</th>\n",
       "      <th>CO_test</th>\n",
       "      <th>PM2.5_test</th>\n",
       "      <th>pm2.5_op</th>\n",
       "      <th>(no2_op, co_op, nh3_op, so2_op)</th>\n",
       "    </tr>\n",
       "    <tr>\n",
       "      <th>Date</th>\n",
       "      <th></th>\n",
       "      <th></th>\n",
       "      <th></th>\n",
       "      <th></th>\n",
       "      <th></th>\n",
       "      <th></th>\n",
       "      <th></th>\n",
       "      <th></th>\n",
       "      <th></th>\n",
       "    </tr>\n",
       "  </thead>\n",
       "  <tbody>\n",
       "    <tr>\n",
       "      <th>2014-01-01 00:00:00</th>\n",
       "      <td>15.0</td>\n",
       "      <td>15.5</td>\n",
       "      <td>98.5</td>\n",
       "      <td>49.42</td>\n",
       "      <td>4.5</td>\n",
       "      <td>15.5</td>\n",
       "      <td>98.5</td>\n",
       "      <td></td>\n",
       "      <td></td>\n",
       "    </tr>\n",
       "    <tr>\n",
       "      <th>2014-01-01 01:00:00</th>\n",
       "      <td>31.0</td>\n",
       "      <td>34.0</td>\n",
       "      <td>131.5</td>\n",
       "      <td>46.75</td>\n",
       "      <td>10.0</td>\n",
       "      <td>34.0</td>\n",
       "      <td>131.5</td>\n",
       "      <td></td>\n",
       "      <td></td>\n",
       "    </tr>\n",
       "    <tr>\n",
       "      <th>2014-01-01 02:00:00</th>\n",
       "      <td>21.5</td>\n",
       "      <td>64.0</td>\n",
       "      <td>142.5</td>\n",
       "      <td>44.89</td>\n",
       "      <td>5.0</td>\n",
       "      <td>64.0</td>\n",
       "      <td>142.5</td>\n",
       "      <td></td>\n",
       "      <td></td>\n",
       "    </tr>\n",
       "    <tr>\n",
       "      <th>2014-01-01 03:00:00</th>\n",
       "      <td>21.5</td>\n",
       "      <td>65.0</td>\n",
       "      <td>161.0</td>\n",
       "      <td>44.70</td>\n",
       "      <td>5.0</td>\n",
       "      <td>65.0</td>\n",
       "      <td>161.0</td>\n",
       "      <td></td>\n",
       "      <td></td>\n",
       "    </tr>\n",
       "    <tr>\n",
       "      <th>2014-01-01 04:00:00</th>\n",
       "      <td>20.0</td>\n",
       "      <td>44.0</td>\n",
       "      <td>174.5</td>\n",
       "      <td>42.41</td>\n",
       "      <td>4.5</td>\n",
       "      <td>44.0</td>\n",
       "      <td>174.5</td>\n",
       "      <td></td>\n",
       "      <td></td>\n",
       "    </tr>\n",
       "  </tbody>\n",
       "</table>\n",
       "</div>"
      ],
      "text/plain": [
       "                      NO2    CO  PM2.5    NH3   SO2  CO_test  PM2.5_test  \\\n",
       "Date                                                                       \n",
       "2014-01-01 00:00:00  15.0  15.5   98.5  49.42   4.5     15.5        98.5   \n",
       "2014-01-01 01:00:00  31.0  34.0  131.5  46.75  10.0     34.0       131.5   \n",
       "2014-01-01 02:00:00  21.5  64.0  142.5  44.89   5.0     64.0       142.5   \n",
       "2014-01-01 03:00:00  21.5  65.0  161.0  44.70   5.0     65.0       161.0   \n",
       "2014-01-01 04:00:00  20.0  44.0  174.5  42.41   4.5     44.0       174.5   \n",
       "\n",
       "                    pm2.5_op (no2_op, co_op, nh3_op, so2_op)  \n",
       "Date                                                          \n",
       "2014-01-01 00:00:00                                           \n",
       "2014-01-01 01:00:00                                           \n",
       "2014-01-01 02:00:00                                           \n",
       "2014-01-01 03:00:00                                           \n",
       "2014-01-01 04:00:00                                           "
      ]
     },
     "execution_count": 75,
     "metadata": {},
     "output_type": "execute_result"
    }
   ],
   "source": [
    "df.head()"
   ]
  },
  {
   "cell_type": "code",
   "execution_count": 68,
   "metadata": {},
   "outputs": [
    {
     "data": {
      "text/plain": [
       "array([[  15.  ,   15.5 ,   98.5 ,   49.42,    4.5 ],\n",
       "       [  31.  ,   34.  ,  131.5 ,   46.75,   10.  ],\n",
       "       [  21.5 ,   64.  ,  142.5 ,   44.89,    5.  ],\n",
       "       ...,\n",
       "       [  10.5 ,    4.5 ,  160.5 ,   50.24,   13.5 ],\n",
       "       [  18.89, 1774.04,  270.92,   57.28,    3.44],\n",
       "       [  19.  , 1332.35,  301.17,   56.63,    7.32]])"
      ]
     },
     "execution_count": 68,
     "metadata": {},
     "output_type": "execute_result"
    }
   ],
   "source": [
    "pm"
   ]
  },
  {
   "cell_type": "code",
   "execution_count": 90,
   "metadata": {},
   "outputs": [
    {
     "data": {
      "text/plain": [
       "8760"
      ]
     },
     "execution_count": 90,
     "metadata": {},
     "output_type": "execute_result"
    }
   ],
   "source": [
    "len(pm)"
   ]
  },
  {
   "cell_type": "code",
   "execution_count": null,
   "metadata": {},
   "outputs": [],
   "source": []
  },
  {
   "cell_type": "code",
   "execution_count": 92,
   "metadata": {},
   "outputs": [],
   "source": [
    "df['no2_mice'] = ''"
   ]
  },
  {
   "cell_type": "code",
   "execution_count": 93,
   "metadata": {},
   "outputs": [],
   "source": [
    "df['co_mice'] = ''"
   ]
  },
  {
   "cell_type": "code",
   "execution_count": 94,
   "metadata": {},
   "outputs": [],
   "source": [
    "df['pm2.5_mice'] = ''"
   ]
  },
  {
   "cell_type": "code",
   "execution_count": 95,
   "metadata": {},
   "outputs": [],
   "source": [
    "df['nh3_mice'] = ''"
   ]
  },
  {
   "cell_type": "code",
   "execution_count": 96,
   "metadata": {},
   "outputs": [],
   "source": [
    "df['so2_mice'] = ''"
   ]
  },
  {
   "cell_type": "code",
   "execution_count": 98,
   "metadata": {},
   "outputs": [],
   "source": [
    "df[['no2_mice', 'co_mice', 'pm2.5_mice','nh3_mice', 'so2_mice']] = pm"
   ]
  },
  {
   "cell_type": "code",
   "execution_count": 102,
   "metadata": {},
   "outputs": [],
   "source": [
    "cols = ['no2_mice', 'co_mice','nh3_mice', 'so2_mice']"
   ]
  },
  {
   "cell_type": "code",
   "execution_count": 104,
   "metadata": {},
   "outputs": [],
   "source": [
    "df.drop(columns= cols, inplace= True)"
   ]
  },
  {
   "cell_type": "code",
   "execution_count": 105,
   "metadata": {},
   "outputs": [
    {
     "data": {
      "text/html": [
       "<div>\n",
       "<style scoped>\n",
       "    .dataframe tbody tr th:only-of-type {\n",
       "        vertical-align: middle;\n",
       "    }\n",
       "\n",
       "    .dataframe tbody tr th {\n",
       "        vertical-align: top;\n",
       "    }\n",
       "\n",
       "    .dataframe thead th {\n",
       "        text-align: right;\n",
       "    }\n",
       "</style>\n",
       "<table border=\"1\" class=\"dataframe\">\n",
       "  <thead>\n",
       "    <tr style=\"text-align: right;\">\n",
       "      <th></th>\n",
       "      <th>PM2.5</th>\n",
       "      <th>PM10</th>\n",
       "      <th>CO</th>\n",
       "      <th>NH3</th>\n",
       "      <th>NO2</th>\n",
       "      <th>SO2</th>\n",
       "      <th>InterpolateLinear</th>\n",
       "      <th>InterpolateSpline</th>\n",
       "      <th>RollingMedian</th>\n",
       "      <th>InterpolateTime</th>\n",
       "      <th>pm2.5_mice</th>\n",
       "    </tr>\n",
       "    <tr>\n",
       "      <th>Date</th>\n",
       "      <th></th>\n",
       "      <th></th>\n",
       "      <th></th>\n",
       "      <th></th>\n",
       "      <th></th>\n",
       "      <th></th>\n",
       "      <th></th>\n",
       "      <th></th>\n",
       "      <th></th>\n",
       "      <th></th>\n",
       "      <th></th>\n",
       "    </tr>\n",
       "  </thead>\n",
       "  <tbody>\n",
       "    <tr>\n",
       "      <th>2016-01-01 00:00:00</th>\n",
       "      <td>389.33</td>\n",
       "      <td>946.17</td>\n",
       "      <td>2.91</td>\n",
       "      <td>118.86</td>\n",
       "      <td>105.57</td>\n",
       "      <td>16.83</td>\n",
       "      <td>389.33</td>\n",
       "      <td>389.33</td>\n",
       "      <td>389.33</td>\n",
       "      <td>389.33</td>\n",
       "      <td>389.33</td>\n",
       "    </tr>\n",
       "    <tr>\n",
       "      <th>2016-01-01 01:00:00</th>\n",
       "      <td>376.00</td>\n",
       "      <td>1117.00</td>\n",
       "      <td>4.13</td>\n",
       "      <td>122.08</td>\n",
       "      <td>89.07</td>\n",
       "      <td>16.42</td>\n",
       "      <td>376.00</td>\n",
       "      <td>376.00</td>\n",
       "      <td>376.00</td>\n",
       "      <td>376.00</td>\n",
       "      <td>376.00</td>\n",
       "    </tr>\n",
       "    <tr>\n",
       "      <th>2016-01-01 02:00:00</th>\n",
       "      <td>480.50</td>\n",
       "      <td>1087.00</td>\n",
       "      <td>3.30</td>\n",
       "      <td>132.15</td>\n",
       "      <td>91.96</td>\n",
       "      <td>16.38</td>\n",
       "      <td>480.50</td>\n",
       "      <td>480.50</td>\n",
       "      <td>480.50</td>\n",
       "      <td>480.50</td>\n",
       "      <td>480.50</td>\n",
       "    </tr>\n",
       "    <tr>\n",
       "      <th>2016-01-01 03:00:00</th>\n",
       "      <td>486.67</td>\n",
       "      <td>918.17</td>\n",
       "      <td>1.93</td>\n",
       "      <td>142.15</td>\n",
       "      <td>79.14</td>\n",
       "      <td>12.93</td>\n",
       "      <td>486.67</td>\n",
       "      <td>486.67</td>\n",
       "      <td>486.67</td>\n",
       "      <td>486.67</td>\n",
       "      <td>486.67</td>\n",
       "    </tr>\n",
       "    <tr>\n",
       "      <th>2016-01-01 04:00:00</th>\n",
       "      <td>441.17</td>\n",
       "      <td>824.00</td>\n",
       "      <td>2.64</td>\n",
       "      <td>176.31</td>\n",
       "      <td>91.57</td>\n",
       "      <td>14.25</td>\n",
       "      <td>441.17</td>\n",
       "      <td>441.17</td>\n",
       "      <td>441.17</td>\n",
       "      <td>441.17</td>\n",
       "      <td>441.17</td>\n",
       "    </tr>\n",
       "  </tbody>\n",
       "</table>\n",
       "</div>"
      ],
      "text/plain": [
       "                      PM2.5     PM10    CO     NH3     NO2    SO2  \\\n",
       "Date                                                                \n",
       "2016-01-01 00:00:00  389.33   946.17  2.91  118.86  105.57  16.83   \n",
       "2016-01-01 01:00:00  376.00  1117.00  4.13  122.08   89.07  16.42   \n",
       "2016-01-01 02:00:00  480.50  1087.00  3.30  132.15   91.96  16.38   \n",
       "2016-01-01 03:00:00  486.67   918.17  1.93  142.15   79.14  12.93   \n",
       "2016-01-01 04:00:00  441.17   824.00  2.64  176.31   91.57  14.25   \n",
       "\n",
       "                     InterpolateLinear  InterpolateSpline  RollingMedian  \\\n",
       "Date                                                                       \n",
       "2016-01-01 00:00:00             389.33             389.33         389.33   \n",
       "2016-01-01 01:00:00             376.00             376.00         376.00   \n",
       "2016-01-01 02:00:00             480.50             480.50         480.50   \n",
       "2016-01-01 03:00:00             486.67             486.67         486.67   \n",
       "2016-01-01 04:00:00             441.17             441.17         441.17   \n",
       "\n",
       "                     InterpolateTime  pm2.5_mice  \n",
       "Date                                              \n",
       "2016-01-01 00:00:00           389.33      389.33  \n",
       "2016-01-01 01:00:00           376.00      376.00  \n",
       "2016-01-01 02:00:00           480.50      480.50  \n",
       "2016-01-01 03:00:00           486.67      486.67  \n",
       "2016-01-01 04:00:00           441.17      441.17  "
      ]
     },
     "execution_count": 105,
     "metadata": {},
     "output_type": "execute_result"
    }
   ],
   "source": [
    "df.head()"
   ]
  },
  {
   "cell_type": "code",
   "execution_count": 106,
   "metadata": {},
   "outputs": [],
   "source": [
    "#df[df.index > '2014-10-01 00:00']"
   ]
  },
  {
   "cell_type": "code",
   "execution_count": 27,
   "metadata": {},
   "outputs": [
    {
     "ename": "ValueError",
     "evalue": "Input contains NaN, infinity or a value too large for dtype('float64').",
     "output_type": "error",
     "traceback": [
      "\u001b[1;31m---------------------------------------------------------------------------\u001b[0m",
      "\u001b[1;31mValueError\u001b[0m                                Traceback (most recent call last)",
      "\u001b[1;32m<ipython-input-27-3442cfd94d9a>\u001b[0m in \u001b[0;36m<module>\u001b[1;34m()\u001b[0m\n\u001b[1;32m----> 1\u001b[1;33m \u001b[0mresults_PM\u001b[0m \u001b[1;33m=\u001b[0m \u001b[1;33m[\u001b[0m\u001b[1;33m(\u001b[0m\u001b[0mr2_score\u001b[0m\u001b[1;33m(\u001b[0m\u001b[0mdf\u001b[0m\u001b[1;33m[\u001b[0m\u001b[1;34m'PM2.5_test'\u001b[0m\u001b[1;33m]\u001b[0m\u001b[1;33m,\u001b[0m \u001b[0mdf\u001b[0m\u001b[1;33m[\u001b[0m\u001b[1;34m'pm2.5_op'\u001b[0m\u001b[1;33m]\u001b[0m\u001b[1;33m)\u001b[0m\u001b[1;33m)\u001b[0m\u001b[1;33m]\u001b[0m\u001b[1;33m\u001b[0m\u001b[0m\n\u001b[0m\u001b[0;32m      2\u001b[0m \u001b[0mresults_df\u001b[0m \u001b[1;33m=\u001b[0m \u001b[0mpd\u001b[0m\u001b[1;33m.\u001b[0m\u001b[0mDataFrame\u001b[0m\u001b[1;33m(\u001b[0m\u001b[0mnp\u001b[0m\u001b[1;33m.\u001b[0m\u001b[0marray\u001b[0m\u001b[1;33m(\u001b[0m\u001b[0mresults_PM\u001b[0m\u001b[1;33m)\u001b[0m\u001b[1;33m,\u001b[0m \u001b[0mcolumns\u001b[0m\u001b[1;33m=\u001b[0m\u001b[1;33m[\u001b[0m\u001b[1;34m'R_squared'\u001b[0m\u001b[1;33m]\u001b[0m\u001b[1;33m)\u001b[0m\u001b[1;33m\u001b[0m\u001b[0m\n\u001b[0;32m      3\u001b[0m \u001b[0mresults_df\u001b[0m\u001b[1;33m.\u001b[0m\u001b[0msort_values\u001b[0m\u001b[1;33m(\u001b[0m\u001b[0mby\u001b[0m\u001b[1;33m=\u001b[0m\u001b[1;34m'R_squared'\u001b[0m\u001b[1;33m,\u001b[0m \u001b[0mascending\u001b[0m\u001b[1;33m=\u001b[0m\u001b[1;32mFalse\u001b[0m\u001b[1;33m)\u001b[0m\u001b[1;33m\u001b[0m\u001b[0m\n",
      "\u001b[1;32m~\\Anaconda3\\lib\\site-packages\\sklearn\\metrics\\regression.py\u001b[0m in \u001b[0;36mr2_score\u001b[1;34m(y_true, y_pred, sample_weight, multioutput)\u001b[0m\n\u001b[0;32m    528\u001b[0m     \"\"\"\n\u001b[0;32m    529\u001b[0m     y_type, y_true, y_pred, multioutput = _check_reg_targets(\n\u001b[1;32m--> 530\u001b[1;33m         y_true, y_pred, multioutput)\n\u001b[0m\u001b[0;32m    531\u001b[0m \u001b[1;33m\u001b[0m\u001b[0m\n\u001b[0;32m    532\u001b[0m     \u001b[1;32mif\u001b[0m \u001b[0msample_weight\u001b[0m \u001b[1;32mis\u001b[0m \u001b[1;32mnot\u001b[0m \u001b[1;32mNone\u001b[0m\u001b[1;33m:\u001b[0m\u001b[1;33m\u001b[0m\u001b[0m\n",
      "\u001b[1;32m~\\Anaconda3\\lib\\site-packages\\sklearn\\metrics\\regression.py\u001b[0m in \u001b[0;36m_check_reg_targets\u001b[1;34m(y_true, y_pred, multioutput)\u001b[0m\n\u001b[0;32m     74\u001b[0m     \"\"\"\n\u001b[0;32m     75\u001b[0m     \u001b[0mcheck_consistent_length\u001b[0m\u001b[1;33m(\u001b[0m\u001b[0my_true\u001b[0m\u001b[1;33m,\u001b[0m \u001b[0my_pred\u001b[0m\u001b[1;33m)\u001b[0m\u001b[1;33m\u001b[0m\u001b[0m\n\u001b[1;32m---> 76\u001b[1;33m     \u001b[0my_true\u001b[0m \u001b[1;33m=\u001b[0m \u001b[0mcheck_array\u001b[0m\u001b[1;33m(\u001b[0m\u001b[0my_true\u001b[0m\u001b[1;33m,\u001b[0m \u001b[0mensure_2d\u001b[0m\u001b[1;33m=\u001b[0m\u001b[1;32mFalse\u001b[0m\u001b[1;33m)\u001b[0m\u001b[1;33m\u001b[0m\u001b[0m\n\u001b[0m\u001b[0;32m     77\u001b[0m     \u001b[0my_pred\u001b[0m \u001b[1;33m=\u001b[0m \u001b[0mcheck_array\u001b[0m\u001b[1;33m(\u001b[0m\u001b[0my_pred\u001b[0m\u001b[1;33m,\u001b[0m \u001b[0mensure_2d\u001b[0m\u001b[1;33m=\u001b[0m\u001b[1;32mFalse\u001b[0m\u001b[1;33m)\u001b[0m\u001b[1;33m\u001b[0m\u001b[0m\n\u001b[0;32m     78\u001b[0m \u001b[1;33m\u001b[0m\u001b[0m\n",
      "\u001b[1;32m~\\Anaconda3\\lib\\site-packages\\sklearn\\utils\\validation.py\u001b[0m in \u001b[0;36mcheck_array\u001b[1;34m(array, accept_sparse, dtype, order, copy, force_all_finite, ensure_2d, allow_nd, ensure_min_samples, ensure_min_features, warn_on_dtype, estimator)\u001b[0m\n\u001b[0;32m    451\u001b[0m                              % (array.ndim, estimator_name))\n\u001b[0;32m    452\u001b[0m         \u001b[1;32mif\u001b[0m \u001b[0mforce_all_finite\u001b[0m\u001b[1;33m:\u001b[0m\u001b[1;33m\u001b[0m\u001b[0m\n\u001b[1;32m--> 453\u001b[1;33m             \u001b[0m_assert_all_finite\u001b[0m\u001b[1;33m(\u001b[0m\u001b[0marray\u001b[0m\u001b[1;33m)\u001b[0m\u001b[1;33m\u001b[0m\u001b[0m\n\u001b[0m\u001b[0;32m    454\u001b[0m \u001b[1;33m\u001b[0m\u001b[0m\n\u001b[0;32m    455\u001b[0m     \u001b[0mshape_repr\u001b[0m \u001b[1;33m=\u001b[0m \u001b[0m_shape_repr\u001b[0m\u001b[1;33m(\u001b[0m\u001b[0marray\u001b[0m\u001b[1;33m.\u001b[0m\u001b[0mshape\u001b[0m\u001b[1;33m)\u001b[0m\u001b[1;33m\u001b[0m\u001b[0m\n",
      "\u001b[1;32m~\\Anaconda3\\lib\\site-packages\\sklearn\\utils\\validation.py\u001b[0m in \u001b[0;36m_assert_all_finite\u001b[1;34m(X)\u001b[0m\n\u001b[0;32m     42\u001b[0m             and not np.isfinite(X).all()):\n\u001b[0;32m     43\u001b[0m         raise ValueError(\"Input contains NaN, infinity\"\n\u001b[1;32m---> 44\u001b[1;33m                          \" or a value too large for %r.\" % X.dtype)\n\u001b[0m\u001b[0;32m     45\u001b[0m \u001b[1;33m\u001b[0m\u001b[0m\n\u001b[0;32m     46\u001b[0m \u001b[1;33m\u001b[0m\u001b[0m\n",
      "\u001b[1;31mValueError\u001b[0m: Input contains NaN, infinity or a value too large for dtype('float64')."
     ]
    }
   ],
   "source": [
    "results_PM = [(r2_score(df['PM2.5_test'], df['pm2.5_op']))]\n",
    "results_df = pd.DataFrame(np.array(results_PM), columns=['R_squared'])\n",
    "results_df.sort_values(by='R_squared', ascending=False)"
   ]
  },
  {
   "cell_type": "code",
   "execution_count": 28,
   "metadata": {},
   "outputs": [],
   "source": [
    "temp = pd.DataFrame(data = df, columns=['PM2.5_test','pm2.5_op'])"
   ]
  },
  {
   "cell_type": "code",
   "execution_count": 31,
   "metadata": {},
   "outputs": [],
   "source": [
    "temp2 = temp[temp.index > '2014-05-01 00:00:00']"
   ]
  },
  {
   "cell_type": "code",
   "execution_count": 33,
   "metadata": {},
   "outputs": [],
   "source": [
    "temp2 = temp2[temp2.index < '2014-07-01 00:00:00']"
   ]
  },
  {
   "cell_type": "code",
   "execution_count": 34,
   "metadata": {},
   "outputs": [
    {
     "data": {
      "text/html": [
       "<div>\n",
       "<style scoped>\n",
       "    .dataframe tbody tr th:only-of-type {\n",
       "        vertical-align: middle;\n",
       "    }\n",
       "\n",
       "    .dataframe tbody tr th {\n",
       "        vertical-align: top;\n",
       "    }\n",
       "\n",
       "    .dataframe thead th {\n",
       "        text-align: right;\n",
       "    }\n",
       "</style>\n",
       "<table border=\"1\" class=\"dataframe\">\n",
       "  <thead>\n",
       "    <tr style=\"text-align: right;\">\n",
       "      <th></th>\n",
       "      <th>PM2.5_test</th>\n",
       "      <th>pm2.5_op</th>\n",
       "    </tr>\n",
       "    <tr>\n",
       "      <th>Date</th>\n",
       "      <th></th>\n",
       "      <th></th>\n",
       "    </tr>\n",
       "  </thead>\n",
       "  <tbody>\n",
       "    <tr>\n",
       "      <th>2014-05-01 01:00:00</th>\n",
       "      <td>173.0</td>\n",
       "      <td>188.046639</td>\n",
       "    </tr>\n",
       "    <tr>\n",
       "      <th>2014-05-01 02:00:00</th>\n",
       "      <td>220.5</td>\n",
       "      <td>201.877802</td>\n",
       "    </tr>\n",
       "    <tr>\n",
       "      <th>2014-05-01 03:00:00</th>\n",
       "      <td>250.0</td>\n",
       "      <td>207.211776</td>\n",
       "    </tr>\n",
       "    <tr>\n",
       "      <th>2014-05-01 04:00:00</th>\n",
       "      <td>213.5</td>\n",
       "      <td>210.902583</td>\n",
       "    </tr>\n",
       "    <tr>\n",
       "      <th>2014-05-01 05:00:00</th>\n",
       "      <td>179.5</td>\n",
       "      <td>205.159165</td>\n",
       "    </tr>\n",
       "    <tr>\n",
       "      <th>2014-05-01 06:00:00</th>\n",
       "      <td>175.5</td>\n",
       "      <td>207.359933</td>\n",
       "    </tr>\n",
       "    <tr>\n",
       "      <th>2014-05-01 07:00:00</th>\n",
       "      <td>177.5</td>\n",
       "      <td>201.120638</td>\n",
       "    </tr>\n",
       "    <tr>\n",
       "      <th>2014-05-01 08:00:00</th>\n",
       "      <td>227.0</td>\n",
       "      <td>204.438109</td>\n",
       "    </tr>\n",
       "    <tr>\n",
       "      <th>2014-05-01 09:00:00</th>\n",
       "      <td>223.0</td>\n",
       "      <td>202.257985</td>\n",
       "    </tr>\n",
       "    <tr>\n",
       "      <th>2014-05-01 10:00:00</th>\n",
       "      <td>200.0</td>\n",
       "      <td>197.940533</td>\n",
       "    </tr>\n",
       "    <tr>\n",
       "      <th>2014-05-01 11:00:00</th>\n",
       "      <td>181.0</td>\n",
       "      <td>193.371667</td>\n",
       "    </tr>\n",
       "    <tr>\n",
       "      <th>2014-05-01 12:00:00</th>\n",
       "      <td>168.0</td>\n",
       "      <td>192.428137</td>\n",
       "    </tr>\n",
       "    <tr>\n",
       "      <th>2014-05-01 13:00:00</th>\n",
       "      <td>223.0</td>\n",
       "      <td>203.027065</td>\n",
       "    </tr>\n",
       "    <tr>\n",
       "      <th>2014-05-01 14:00:00</th>\n",
       "      <td>192.0</td>\n",
       "      <td>189.979351</td>\n",
       "    </tr>\n",
       "    <tr>\n",
       "      <th>2014-05-01 15:00:00</th>\n",
       "      <td>169.0</td>\n",
       "      <td>172.041137</td>\n",
       "    </tr>\n",
       "    <tr>\n",
       "      <th>2014-05-01 16:00:00</th>\n",
       "      <td>215.0</td>\n",
       "      <td>168.441987</td>\n",
       "    </tr>\n",
       "    <tr>\n",
       "      <th>2014-05-01 17:00:00</th>\n",
       "      <td>184.0</td>\n",
       "      <td>163.874047</td>\n",
       "    </tr>\n",
       "    <tr>\n",
       "      <th>2014-05-01 18:00:00</th>\n",
       "      <td>234.5</td>\n",
       "      <td>157.923187</td>\n",
       "    </tr>\n",
       "    <tr>\n",
       "      <th>2014-05-01 19:00:00</th>\n",
       "      <td>200.5</td>\n",
       "      <td>155.970395</td>\n",
       "    </tr>\n",
       "    <tr>\n",
       "      <th>2014-05-01 20:00:00</th>\n",
       "      <td>249.5</td>\n",
       "      <td>153.632032</td>\n",
       "    </tr>\n",
       "    <tr>\n",
       "      <th>2014-05-01 21:00:00</th>\n",
       "      <td>219.0</td>\n",
       "      <td>154.263847</td>\n",
       "    </tr>\n",
       "    <tr>\n",
       "      <th>2014-05-01 22:00:00</th>\n",
       "      <td>238.0</td>\n",
       "      <td>158.539329</td>\n",
       "    </tr>\n",
       "    <tr>\n",
       "      <th>2014-05-01 23:00:00</th>\n",
       "      <td>196.0</td>\n",
       "      <td>163.847396</td>\n",
       "    </tr>\n",
       "    <tr>\n",
       "      <th>2014-05-02 00:00:00</th>\n",
       "      <td>172.0</td>\n",
       "      <td>174.995895</td>\n",
       "    </tr>\n",
       "    <tr>\n",
       "      <th>2014-05-02 01:00:00</th>\n",
       "      <td>163.5</td>\n",
       "      <td>177.279832</td>\n",
       "    </tr>\n",
       "    <tr>\n",
       "      <th>2014-05-02 02:00:00</th>\n",
       "      <td>170.0</td>\n",
       "      <td>191.398233</td>\n",
       "    </tr>\n",
       "    <tr>\n",
       "      <th>2014-05-02 03:00:00</th>\n",
       "      <td>182.5</td>\n",
       "      <td>199.909827</td>\n",
       "    </tr>\n",
       "    <tr>\n",
       "      <th>2014-05-02 04:00:00</th>\n",
       "      <td>219.0</td>\n",
       "      <td>190.681121</td>\n",
       "    </tr>\n",
       "    <tr>\n",
       "      <th>2014-05-02 05:00:00</th>\n",
       "      <td>250.0</td>\n",
       "      <td>184.097454</td>\n",
       "    </tr>\n",
       "    <tr>\n",
       "      <th>2014-05-02 06:00:00</th>\n",
       "      <td>225.0</td>\n",
       "      <td>225.000000</td>\n",
       "    </tr>\n",
       "    <tr>\n",
       "      <th>...</th>\n",
       "      <td>...</td>\n",
       "      <td>...</td>\n",
       "    </tr>\n",
       "    <tr>\n",
       "      <th>2014-06-29 18:00:00</th>\n",
       "      <td>171.5</td>\n",
       "      <td>171.500000</td>\n",
       "    </tr>\n",
       "    <tr>\n",
       "      <th>2014-06-29 19:00:00</th>\n",
       "      <td>162.0</td>\n",
       "      <td>162.000000</td>\n",
       "    </tr>\n",
       "    <tr>\n",
       "      <th>2014-06-29 20:00:00</th>\n",
       "      <td>168.5</td>\n",
       "      <td>168.500000</td>\n",
       "    </tr>\n",
       "    <tr>\n",
       "      <th>2014-06-29 21:00:00</th>\n",
       "      <td>160.5</td>\n",
       "      <td>160.500000</td>\n",
       "    </tr>\n",
       "    <tr>\n",
       "      <th>2014-06-29 22:00:00</th>\n",
       "      <td>159.5</td>\n",
       "      <td>159.500000</td>\n",
       "    </tr>\n",
       "    <tr>\n",
       "      <th>2014-06-29 23:00:00</th>\n",
       "      <td>154.5</td>\n",
       "      <td>154.500000</td>\n",
       "    </tr>\n",
       "    <tr>\n",
       "      <th>2014-06-30 00:00:00</th>\n",
       "      <td>160.5</td>\n",
       "      <td>160.500000</td>\n",
       "    </tr>\n",
       "    <tr>\n",
       "      <th>2014-06-30 01:00:00</th>\n",
       "      <td>153.5</td>\n",
       "      <td>153.500000</td>\n",
       "    </tr>\n",
       "    <tr>\n",
       "      <th>2014-06-30 02:00:00</th>\n",
       "      <td>173.0</td>\n",
       "      <td>173.000000</td>\n",
       "    </tr>\n",
       "    <tr>\n",
       "      <th>2014-06-30 03:00:00</th>\n",
       "      <td>165.5</td>\n",
       "      <td>165.500000</td>\n",
       "    </tr>\n",
       "    <tr>\n",
       "      <th>2014-06-30 04:00:00</th>\n",
       "      <td>311.0</td>\n",
       "      <td>311.000000</td>\n",
       "    </tr>\n",
       "    <tr>\n",
       "      <th>2014-06-30 05:00:00</th>\n",
       "      <td>320.0</td>\n",
       "      <td>320.000000</td>\n",
       "    </tr>\n",
       "    <tr>\n",
       "      <th>2014-06-30 06:00:00</th>\n",
       "      <td>314.0</td>\n",
       "      <td>314.000000</td>\n",
       "    </tr>\n",
       "    <tr>\n",
       "      <th>2014-06-30 07:00:00</th>\n",
       "      <td>159.0</td>\n",
       "      <td>159.000000</td>\n",
       "    </tr>\n",
       "    <tr>\n",
       "      <th>2014-06-30 08:00:00</th>\n",
       "      <td>329.0</td>\n",
       "      <td>329.000000</td>\n",
       "    </tr>\n",
       "    <tr>\n",
       "      <th>2014-06-30 09:00:00</th>\n",
       "      <td>307.0</td>\n",
       "      <td>307.000000</td>\n",
       "    </tr>\n",
       "    <tr>\n",
       "      <th>2014-06-30 10:00:00</th>\n",
       "      <td>NaN</td>\n",
       "      <td>176.698098</td>\n",
       "    </tr>\n",
       "    <tr>\n",
       "      <th>2014-06-30 11:00:00</th>\n",
       "      <td>NaN</td>\n",
       "      <td>176.698098</td>\n",
       "    </tr>\n",
       "    <tr>\n",
       "      <th>2014-06-30 12:00:00</th>\n",
       "      <td>NaN</td>\n",
       "      <td>176.698098</td>\n",
       "    </tr>\n",
       "    <tr>\n",
       "      <th>2014-06-30 13:00:00</th>\n",
       "      <td>111.5</td>\n",
       "      <td>111.500000</td>\n",
       "    </tr>\n",
       "    <tr>\n",
       "      <th>2014-06-30 14:00:00</th>\n",
       "      <td>0.0</td>\n",
       "      <td>0.000000</td>\n",
       "    </tr>\n",
       "    <tr>\n",
       "      <th>2014-06-30 15:00:00</th>\n",
       "      <td>0.0</td>\n",
       "      <td>0.000000</td>\n",
       "    </tr>\n",
       "    <tr>\n",
       "      <th>2014-06-30 16:00:00</th>\n",
       "      <td>0.0</td>\n",
       "      <td>0.000000</td>\n",
       "    </tr>\n",
       "    <tr>\n",
       "      <th>2014-06-30 17:00:00</th>\n",
       "      <td>0.0</td>\n",
       "      <td>0.000000</td>\n",
       "    </tr>\n",
       "    <tr>\n",
       "      <th>2014-06-30 18:00:00</th>\n",
       "      <td>0.0</td>\n",
       "      <td>0.000000</td>\n",
       "    </tr>\n",
       "    <tr>\n",
       "      <th>2014-06-30 19:00:00</th>\n",
       "      <td>249.0</td>\n",
       "      <td>249.000000</td>\n",
       "    </tr>\n",
       "    <tr>\n",
       "      <th>2014-06-30 20:00:00</th>\n",
       "      <td>202.0</td>\n",
       "      <td>202.000000</td>\n",
       "    </tr>\n",
       "    <tr>\n",
       "      <th>2014-06-30 21:00:00</th>\n",
       "      <td>175.0</td>\n",
       "      <td>175.000000</td>\n",
       "    </tr>\n",
       "    <tr>\n",
       "      <th>2014-06-30 22:00:00</th>\n",
       "      <td>175.0</td>\n",
       "      <td>175.000000</td>\n",
       "    </tr>\n",
       "    <tr>\n",
       "      <th>2014-06-30 23:00:00</th>\n",
       "      <td>175.0</td>\n",
       "      <td>175.000000</td>\n",
       "    </tr>\n",
       "  </tbody>\n",
       "</table>\n",
       "<p>1463 rows × 2 columns</p>\n",
       "</div>"
      ],
      "text/plain": [
       "                     PM2.5_test    pm2.5_op\n",
       "Date                                       \n",
       "2014-05-01 01:00:00       173.0  188.046639\n",
       "2014-05-01 02:00:00       220.5  201.877802\n",
       "2014-05-01 03:00:00       250.0  207.211776\n",
       "2014-05-01 04:00:00       213.5  210.902583\n",
       "2014-05-01 05:00:00       179.5  205.159165\n",
       "2014-05-01 06:00:00       175.5  207.359933\n",
       "2014-05-01 07:00:00       177.5  201.120638\n",
       "2014-05-01 08:00:00       227.0  204.438109\n",
       "2014-05-01 09:00:00       223.0  202.257985\n",
       "2014-05-01 10:00:00       200.0  197.940533\n",
       "2014-05-01 11:00:00       181.0  193.371667\n",
       "2014-05-01 12:00:00       168.0  192.428137\n",
       "2014-05-01 13:00:00       223.0  203.027065\n",
       "2014-05-01 14:00:00       192.0  189.979351\n",
       "2014-05-01 15:00:00       169.0  172.041137\n",
       "2014-05-01 16:00:00       215.0  168.441987\n",
       "2014-05-01 17:00:00       184.0  163.874047\n",
       "2014-05-01 18:00:00       234.5  157.923187\n",
       "2014-05-01 19:00:00       200.5  155.970395\n",
       "2014-05-01 20:00:00       249.5  153.632032\n",
       "2014-05-01 21:00:00       219.0  154.263847\n",
       "2014-05-01 22:00:00       238.0  158.539329\n",
       "2014-05-01 23:00:00       196.0  163.847396\n",
       "2014-05-02 00:00:00       172.0  174.995895\n",
       "2014-05-02 01:00:00       163.5  177.279832\n",
       "2014-05-02 02:00:00       170.0  191.398233\n",
       "2014-05-02 03:00:00       182.5  199.909827\n",
       "2014-05-02 04:00:00       219.0  190.681121\n",
       "2014-05-02 05:00:00       250.0  184.097454\n",
       "2014-05-02 06:00:00       225.0  225.000000\n",
       "...                         ...         ...\n",
       "2014-06-29 18:00:00       171.5  171.500000\n",
       "2014-06-29 19:00:00       162.0  162.000000\n",
       "2014-06-29 20:00:00       168.5  168.500000\n",
       "2014-06-29 21:00:00       160.5  160.500000\n",
       "2014-06-29 22:00:00       159.5  159.500000\n",
       "2014-06-29 23:00:00       154.5  154.500000\n",
       "2014-06-30 00:00:00       160.5  160.500000\n",
       "2014-06-30 01:00:00       153.5  153.500000\n",
       "2014-06-30 02:00:00       173.0  173.000000\n",
       "2014-06-30 03:00:00       165.5  165.500000\n",
       "2014-06-30 04:00:00       311.0  311.000000\n",
       "2014-06-30 05:00:00       320.0  320.000000\n",
       "2014-06-30 06:00:00       314.0  314.000000\n",
       "2014-06-30 07:00:00       159.0  159.000000\n",
       "2014-06-30 08:00:00       329.0  329.000000\n",
       "2014-06-30 09:00:00       307.0  307.000000\n",
       "2014-06-30 10:00:00         NaN  176.698098\n",
       "2014-06-30 11:00:00         NaN  176.698098\n",
       "2014-06-30 12:00:00         NaN  176.698098\n",
       "2014-06-30 13:00:00       111.5  111.500000\n",
       "2014-06-30 14:00:00         0.0    0.000000\n",
       "2014-06-30 15:00:00         0.0    0.000000\n",
       "2014-06-30 16:00:00         0.0    0.000000\n",
       "2014-06-30 17:00:00         0.0    0.000000\n",
       "2014-06-30 18:00:00         0.0    0.000000\n",
       "2014-06-30 19:00:00       249.0  249.000000\n",
       "2014-06-30 20:00:00       202.0  202.000000\n",
       "2014-06-30 21:00:00       175.0  175.000000\n",
       "2014-06-30 22:00:00       175.0  175.000000\n",
       "2014-06-30 23:00:00       175.0  175.000000\n",
       "\n",
       "[1463 rows x 2 columns]"
      ]
     },
     "execution_count": 34,
     "metadata": {},
     "output_type": "execute_result"
    }
   ],
   "source": [
    "temp2"
   ]
  },
  {
   "cell_type": "code",
   "execution_count": null,
   "metadata": {},
   "outputs": [],
   "source": []
  }
 ],
 "metadata": {
  "kernelspec": {
   "display_name": "Python 3",
   "language": "python",
   "name": "python3"
  },
  "language_info": {
   "codemirror_mode": {
    "name": "ipython",
    "version": 3
   },
   "file_extension": ".py",
   "mimetype": "text/x-python",
   "name": "python",
   "nbconvert_exporter": "python",
   "pygments_lexer": "ipython3",
   "version": "3.6.5"
  }
 },
 "nbformat": 4,
 "nbformat_minor": 2
}
