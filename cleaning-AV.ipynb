{
 "cells": [
  {
   "cell_type": "code",
   "execution_count": 1,
   "metadata": {},
   "outputs": [],
   "source": [
    "import pandas as pd\n",
    "import numpy as np\n",
    "import matplotlib.pyplot as plt\n",
    "# Import a scoring metric to compare methods\n",
    "from sklearn.metrics import r2_score\n",
    "%matplotlib inline"
   ]
  },
  {
   "cell_type": "code",
   "execution_count": 45,
   "metadata": {},
   "outputs": [],
   "source": [
    "df = pd.read_csv('Merged_Mice.csv')"
   ]
  },
  {
   "cell_type": "code",
   "execution_count": 11,
   "metadata": {},
   "outputs": [],
   "source": [
    "av19 = pd.read_csv('AV_2019.csv')"
   ]
  },
  {
   "cell_type": "code",
   "execution_count": 3,
   "metadata": {},
   "outputs": [],
   "source": [
    "av17 = pd.read_csv('AV_2017_new.csv')"
   ]
  },
  {
   "cell_type": "code",
   "execution_count": 4,
   "metadata": {},
   "outputs": [],
   "source": [
    "av18 = pd.read_csv('AV_2018.csv')"
   ]
  },
  {
   "cell_type": "code",
   "execution_count": 51,
   "metadata": {},
   "outputs": [
    {
     "data": {
      "text/html": [
       "<div>\n",
       "<style scoped>\n",
       "    .dataframe tbody tr th:only-of-type {\n",
       "        vertical-align: middle;\n",
       "    }\n",
       "\n",
       "    .dataframe tbody tr th {\n",
       "        vertical-align: top;\n",
       "    }\n",
       "\n",
       "    .dataframe thead th {\n",
       "        text-align: right;\n",
       "    }\n",
       "</style>\n",
       "<table border=\"1\" class=\"dataframe\">\n",
       "  <thead>\n",
       "    <tr style=\"text-align: right;\">\n",
       "      <th></th>\n",
       "      <th>Date</th>\n",
       "      <th>PM2.5</th>\n",
       "      <th>PM10</th>\n",
       "      <th>CO</th>\n",
       "      <th>NH3</th>\n",
       "      <th>NO2</th>\n",
       "      <th>SO2</th>\n",
       "    </tr>\n",
       "  </thead>\n",
       "  <tbody>\n",
       "    <tr>\n",
       "      <th>0</th>\n",
       "      <td>2016-01-01 00:00:00</td>\n",
       "      <td>389.33</td>\n",
       "      <td>946.17</td>\n",
       "      <td>2.91</td>\n",
       "      <td>118.86</td>\n",
       "      <td>105.57</td>\n",
       "      <td>16.83</td>\n",
       "    </tr>\n",
       "    <tr>\n",
       "      <th>1</th>\n",
       "      <td>2016-01-01 01:00:00</td>\n",
       "      <td>376.00</td>\n",
       "      <td>1117.00</td>\n",
       "      <td>4.13</td>\n",
       "      <td>122.08</td>\n",
       "      <td>89.07</td>\n",
       "      <td>16.42</td>\n",
       "    </tr>\n",
       "    <tr>\n",
       "      <th>2</th>\n",
       "      <td>2016-01-01 02:00:00</td>\n",
       "      <td>480.50</td>\n",
       "      <td>1087.00</td>\n",
       "      <td>3.30</td>\n",
       "      <td>132.15</td>\n",
       "      <td>91.96</td>\n",
       "      <td>16.38</td>\n",
       "    </tr>\n",
       "    <tr>\n",
       "      <th>3</th>\n",
       "      <td>2016-01-01 03:00:00</td>\n",
       "      <td>486.67</td>\n",
       "      <td>918.17</td>\n",
       "      <td>1.93</td>\n",
       "      <td>142.15</td>\n",
       "      <td>79.14</td>\n",
       "      <td>12.93</td>\n",
       "    </tr>\n",
       "    <tr>\n",
       "      <th>4</th>\n",
       "      <td>2016-01-01 04:00:00</td>\n",
       "      <td>441.17</td>\n",
       "      <td>824.00</td>\n",
       "      <td>2.64</td>\n",
       "      <td>176.31</td>\n",
       "      <td>91.57</td>\n",
       "      <td>14.25</td>\n",
       "    </tr>\n",
       "  </tbody>\n",
       "</table>\n",
       "</div>"
      ],
      "text/plain": [
       "                 Date   PM2.5     PM10    CO     NH3     NO2    SO2\n",
       "0 2016-01-01 00:00:00  389.33   946.17  2.91  118.86  105.57  16.83\n",
       "1 2016-01-01 01:00:00  376.00  1117.00  4.13  122.08   89.07  16.42\n",
       "2 2016-01-01 02:00:00  480.50  1087.00  3.30  132.15   91.96  16.38\n",
       "3 2016-01-01 03:00:00  486.67   918.17  1.93  142.15   79.14  12.93\n",
       "4 2016-01-01 04:00:00  441.17   824.00  2.64  176.31   91.57  14.25"
      ]
     },
     "execution_count": 51,
     "metadata": {},
     "output_type": "execute_result"
    }
   ],
   "source": [
    "df.head()"
   ]
  },
  {
   "cell_type": "code",
   "execution_count": 52,
   "metadata": {},
   "outputs": [
    {
     "data": {
      "text/html": [
       "<div>\n",
       "<style scoped>\n",
       "    .dataframe tbody tr th:only-of-type {\n",
       "        vertical-align: middle;\n",
       "    }\n",
       "\n",
       "    .dataframe tbody tr th {\n",
       "        vertical-align: top;\n",
       "    }\n",
       "\n",
       "    .dataframe thead th {\n",
       "        text-align: right;\n",
       "    }\n",
       "</style>\n",
       "<table border=\"1\" class=\"dataframe\">\n",
       "  <thead>\n",
       "    <tr style=\"text-align: right;\">\n",
       "      <th></th>\n",
       "      <th>PM2.5</th>\n",
       "      <th>PM10</th>\n",
       "      <th>CO</th>\n",
       "      <th>NH3</th>\n",
       "      <th>NO2</th>\n",
       "      <th>SO2</th>\n",
       "    </tr>\n",
       "    <tr>\n",
       "      <th>Date</th>\n",
       "      <th></th>\n",
       "      <th></th>\n",
       "      <th></th>\n",
       "      <th></th>\n",
       "      <th></th>\n",
       "      <th></th>\n",
       "    </tr>\n",
       "  </thead>\n",
       "  <tbody>\n",
       "    <tr>\n",
       "      <th>2019-01-01 00:00:00</th>\n",
       "      <td>517.25</td>\n",
       "      <td>950.00</td>\n",
       "      <td>4.25</td>\n",
       "      <td>111.17</td>\n",
       "      <td>151.10</td>\n",
       "      <td>12.80</td>\n",
       "    </tr>\n",
       "    <tr>\n",
       "      <th>2019-01-01 01:00:00</th>\n",
       "      <td>531.25</td>\n",
       "      <td>939.00</td>\n",
       "      <td>1.55</td>\n",
       "      <td>112.02</td>\n",
       "      <td>120.45</td>\n",
       "      <td>13.87</td>\n",
       "    </tr>\n",
       "    <tr>\n",
       "      <th>2019-01-01 02:00:00</th>\n",
       "      <td>542.00</td>\n",
       "      <td>797.25</td>\n",
       "      <td>1.00</td>\n",
       "      <td>67.65</td>\n",
       "      <td>111.20</td>\n",
       "      <td>11.40</td>\n",
       "    </tr>\n",
       "    <tr>\n",
       "      <th>2019-01-01 03:00:00</th>\n",
       "      <td>547.50</td>\n",
       "      <td>526.25</td>\n",
       "      <td>1.32</td>\n",
       "      <td>86.73</td>\n",
       "      <td>104.27</td>\n",
       "      <td>8.00</td>\n",
       "    </tr>\n",
       "    <tr>\n",
       "      <th>2019-01-01 04:00:00</th>\n",
       "      <td>497.00</td>\n",
       "      <td>776.25</td>\n",
       "      <td>1.25</td>\n",
       "      <td>86.23</td>\n",
       "      <td>107.12</td>\n",
       "      <td>6.75</td>\n",
       "    </tr>\n",
       "  </tbody>\n",
       "</table>\n",
       "</div>"
      ],
      "text/plain": [
       "                      PM2.5    PM10    CO     NH3     NO2    SO2\n",
       "Date                                                            \n",
       "2019-01-01 00:00:00  517.25  950.00  4.25  111.17  151.10  12.80\n",
       "2019-01-01 01:00:00  531.25  939.00  1.55  112.02  120.45  13.87\n",
       "2019-01-01 02:00:00  542.00  797.25  1.00   67.65  111.20  11.40\n",
       "2019-01-01 03:00:00  547.50  526.25  1.32   86.73  104.27   8.00\n",
       "2019-01-01 04:00:00  497.00  776.25  1.25   86.23  107.12   6.75"
      ]
     },
     "execution_count": 52,
     "metadata": {},
     "output_type": "execute_result"
    }
   ],
   "source": [
    "av19.head()"
   ]
  },
  {
   "cell_type": "code",
   "execution_count": 87,
   "metadata": {},
   "outputs": [
    {
     "name": "stdout",
     "output_type": "stream",
     "text": [
      "<class 'pandas.core.frame.DataFrame'>\n",
      "RangeIndex: 8760 entries, 0 to 8759\n",
      "Data columns (total 7 columns):\n",
      "From Date    8760 non-null object\n",
      "PM2.5        8760 non-null object\n",
      "PM10         8760 non-null object\n",
      "CO           8760 non-null object\n",
      "NH3          8760 non-null object\n",
      "NO2          8760 non-null object\n",
      "SO2          8760 non-null object\n",
      "dtypes: object(7)\n",
      "memory usage: 479.1+ KB\n"
     ]
    }
   ],
   "source": [
    "av18.info()"
   ]
  },
  {
   "cell_type": "code",
   "execution_count": null,
   "metadata": {},
   "outputs": [],
   "source": []
  },
  {
   "cell_type": "code",
   "execution_count": 13,
   "metadata": {},
   "outputs": [],
   "source": [
    "av19['Date'] = pd.to_datetime(av19['From Date'], format = '%d/%m/%Y %H:%M')"
   ]
  },
  {
   "cell_type": "code",
   "execution_count": 50,
   "metadata": {},
   "outputs": [],
   "source": [
    "df['Date'] = pd.to_datetime(df['Date'], format = '%Y-%m-%d %H:%M')"
   ]
  },
  {
   "cell_type": "code",
   "execution_count": 6,
   "metadata": {},
   "outputs": [],
   "source": [
    "av18['Date'] = pd.to_datetime(av18['From Date'], format = '%d/%m/%Y %H:%M')"
   ]
  },
  {
   "cell_type": "code",
   "execution_count": 16,
   "metadata": {},
   "outputs": [],
   "source": [
    "#av19.drop('From Date', axis=1, inplace= True)"
   ]
  },
  {
   "cell_type": "code",
   "execution_count": 92,
   "metadata": {},
   "outputs": [],
   "source": [
    "df.drop('Date', axis=1, inplace= True)"
   ]
  },
  {
   "cell_type": "code",
   "execution_count": 7,
   "metadata": {},
   "outputs": [],
   "source": [
    "av18.drop('From Date', axis=1, inplace= True)"
   ]
  },
  {
   "cell_type": "code",
   "execution_count": 55,
   "metadata": {},
   "outputs": [],
   "source": [
    "df19 = df.append(av19)"
   ]
  },
  {
   "cell_type": "code",
   "execution_count": 59,
   "metadata": {},
   "outputs": [
    {
     "name": "stdout",
     "output_type": "stream",
     "text": [
      "<class 'pandas.core.frame.DataFrame'>\n",
      "DatetimeIndex: 30624 entries, 2016-01-01 00:00:00 to 2019-06-30 23:00:00\n",
      "Data columns (total 6 columns):\n",
      "PM2.5    30624 non-null float64\n",
      "PM10     22647 non-null float64\n",
      "CO       30624 non-null float64\n",
      "NH3      30624 non-null float64\n",
      "NO2      30624 non-null float64\n",
      "SO2      30624 non-null float64\n",
      "dtypes: float64(6)\n",
      "memory usage: 1.6 MB\n"
     ]
    }
   ],
   "source": [
    "df19.info()"
   ]
  },
  {
   "cell_type": "code",
   "execution_count": 60,
   "metadata": {},
   "outputs": [],
   "source": [
    "df19.to_csv('AV_Final_19.csv')"
   ]
  },
  {
   "cell_type": "code",
   "execution_count": 53,
   "metadata": {},
   "outputs": [],
   "source": [
    "df.set_index('Date', inplace = True)"
   ]
  },
  {
   "cell_type": "code",
   "execution_count": 44,
   "metadata": {},
   "outputs": [
    {
     "data": {
      "text/html": [
       "<div>\n",
       "<style scoped>\n",
       "    .dataframe tbody tr th:only-of-type {\n",
       "        vertical-align: middle;\n",
       "    }\n",
       "\n",
       "    .dataframe tbody tr th {\n",
       "        vertical-align: top;\n",
       "    }\n",
       "\n",
       "    .dataframe thead th {\n",
       "        text-align: right;\n",
       "    }\n",
       "</style>\n",
       "<table border=\"1\" class=\"dataframe\">\n",
       "  <thead>\n",
       "    <tr style=\"text-align: right;\">\n",
       "      <th></th>\n",
       "      <th>PM2.5</th>\n",
       "      <th>PM10</th>\n",
       "      <th>CO</th>\n",
       "      <th>NH3</th>\n",
       "      <th>NO2</th>\n",
       "      <th>SO2</th>\n",
       "    </tr>\n",
       "    <tr>\n",
       "      <th>Date</th>\n",
       "      <th></th>\n",
       "      <th></th>\n",
       "      <th></th>\n",
       "      <th></th>\n",
       "      <th></th>\n",
       "      <th></th>\n",
       "    </tr>\n",
       "  </thead>\n",
       "  <tbody>\n",
       "    <tr>\n",
       "      <th>2019-01-01 00:00:00</th>\n",
       "      <td>517.25</td>\n",
       "      <td>950.00</td>\n",
       "      <td>4.25</td>\n",
       "      <td>111.17</td>\n",
       "      <td>151.10</td>\n",
       "      <td>12.80</td>\n",
       "    </tr>\n",
       "    <tr>\n",
       "      <th>2019-01-01 01:00:00</th>\n",
       "      <td>531.25</td>\n",
       "      <td>939.00</td>\n",
       "      <td>1.55</td>\n",
       "      <td>112.02</td>\n",
       "      <td>120.45</td>\n",
       "      <td>13.87</td>\n",
       "    </tr>\n",
       "    <tr>\n",
       "      <th>2019-01-01 02:00:00</th>\n",
       "      <td>542.00</td>\n",
       "      <td>797.25</td>\n",
       "      <td>1.00</td>\n",
       "      <td>67.65</td>\n",
       "      <td>111.20</td>\n",
       "      <td>11.40</td>\n",
       "    </tr>\n",
       "    <tr>\n",
       "      <th>2019-01-01 03:00:00</th>\n",
       "      <td>547.50</td>\n",
       "      <td>526.25</td>\n",
       "      <td>1.32</td>\n",
       "      <td>86.73</td>\n",
       "      <td>104.27</td>\n",
       "      <td>8.00</td>\n",
       "    </tr>\n",
       "    <tr>\n",
       "      <th>2019-01-01 04:00:00</th>\n",
       "      <td>497.00</td>\n",
       "      <td>776.25</td>\n",
       "      <td>1.25</td>\n",
       "      <td>86.23</td>\n",
       "      <td>107.12</td>\n",
       "      <td>6.75</td>\n",
       "    </tr>\n",
       "  </tbody>\n",
       "</table>\n",
       "</div>"
      ],
      "text/plain": [
       "                      PM2.5    PM10    CO     NH3     NO2    SO2\n",
       "Date                                                            \n",
       "2019-01-01 00:00:00  517.25  950.00  4.25  111.17  151.10  12.80\n",
       "2019-01-01 01:00:00  531.25  939.00  1.55  112.02  120.45  13.87\n",
       "2019-01-01 02:00:00  542.00  797.25  1.00   67.65  111.20  11.40\n",
       "2019-01-01 03:00:00  547.50  526.25  1.32   86.73  104.27   8.00\n",
       "2019-01-01 04:00:00  497.00  776.25  1.25   86.23  107.12   6.75"
      ]
     },
     "execution_count": 44,
     "metadata": {},
     "output_type": "execute_result"
    }
   ],
   "source": [
    "av19.head()"
   ]
  },
  {
   "cell_type": "code",
   "execution_count": 9,
   "metadata": {},
   "outputs": [],
   "source": [
    "av16.set_index('Date', inplace=True)"
   ]
  },
  {
   "cell_type": "code",
   "execution_count": 10,
   "metadata": {},
   "outputs": [],
   "source": [
    "av17.set_index('Date', inplace=True)"
   ]
  },
  {
   "cell_type": "code",
   "execution_count": 8,
   "metadata": {},
   "outputs": [],
   "source": [
    "av18.set_index('Date', inplace=True)"
   ]
  },
  {
   "cell_type": "code",
   "execution_count": 38,
   "metadata": {},
   "outputs": [],
   "source": [
    "import impyute as impy"
   ]
  },
  {
   "cell_type": "code",
   "execution_count": 39,
   "metadata": {},
   "outputs": [],
   "source": [
    "pm = av19[['NO2','CO','PM2.5','NH3', 'SO2']]"
   ]
  },
  {
   "cell_type": "code",
   "execution_count": 40,
   "metadata": {},
   "outputs": [],
   "source": [
    "# reshape 1D array\n",
    "from numpy import array\n",
    "from numpy import reshape"
   ]
  },
  {
   "cell_type": "code",
   "execution_count": 41,
   "metadata": {},
   "outputs": [
    {
     "name": "stdout",
     "output_type": "stream",
     "text": [
      "(4344, 5)\n"
     ]
    }
   ],
   "source": [
    "# define array\n",
    "data = array(pm)\n",
    "print(data.shape)"
   ]
  },
  {
   "cell_type": "code",
   "execution_count": 42,
   "metadata": {},
   "outputs": [],
   "source": [
    "pm = impy.mice(data)"
   ]
  },
  {
   "cell_type": "code",
   "execution_count": 43,
   "metadata": {},
   "outputs": [],
   "source": [
    "av19[['NO2','CO','PM2.5','NH3', 'SO2']] = pm"
   ]
  },
  {
   "cell_type": "markdown",
   "metadata": {},
   "source": [
    "## Imputing from Other Year Values"
   ]
  },
  {
   "cell_type": "code",
   "execution_count": 101,
   "metadata": {},
   "outputs": [],
   "source": [
    "for i in range(0,len(av17.index)):\n",
    "    if av17['NH3'][i] == 'None':\n",
    "        av17['NH3'][i] = av16['NH3'][i]"
   ]
  },
  {
   "cell_type": "code",
   "execution_count": 15,
   "metadata": {},
   "outputs": [],
   "source": [
    "for i in range(0,len(av16.index)):\n",
    "    if av18['NH3'][i] == 'None':\n",
    "        av18['NH3'][i] = av17['NH3'][i]"
   ]
  },
  {
   "cell_type": "code",
   "execution_count": 111,
   "metadata": {},
   "outputs": [],
   "source": [
    "for i in range(0,len(av16.index)):\n",
    "    if av16['NH3'][i] == 'None':\n",
    "        av16['NH3'][i] = av17['NH3'][i]"
   ]
  },
  {
   "cell_type": "code",
   "execution_count": 26,
   "metadata": {},
   "outputs": [
    {
     "name": "stdout",
     "output_type": "stream",
     "text": [
      "<class 'pandas.core.frame.DataFrame'>\n",
      "DatetimeIndex: 4344 entries, 2019-01-01 00:00:00 to 2019-06-30 23:00:00\n",
      "Data columns (total 6 columns):\n",
      "PM2.5    4235 non-null float64\n",
      "PM10     4021 non-null float64\n",
      "CO       3727 non-null float64\n",
      "NH3      4077 non-null float64\n",
      "NO2      4073 non-null float64\n",
      "SO2      4256 non-null float64\n",
      "dtypes: float64(6)\n",
      "memory usage: 237.6 KB\n"
     ]
    }
   ],
   "source": [
    "av19.info()"
   ]
  },
  {
   "cell_type": "code",
   "execution_count": null,
   "metadata": {},
   "outputs": [],
   "source": []
  },
  {
   "cell_type": "code",
   "execution_count": 23,
   "metadata": {},
   "outputs": [],
   "source": [
    "av19.replace('None', np.nan, inplace=True)"
   ]
  },
  {
   "cell_type": "code",
   "execution_count": 16,
   "metadata": {},
   "outputs": [],
   "source": [
    "av16.replace('None', np.nan, inplace=True)\n",
    "av17.replace('None', np.nan, inplace=True)\n",
    "av18.replace('None', np.nan, inplace=True)"
   ]
  },
  {
   "cell_type": "code",
   "execution_count": 24,
   "metadata": {},
   "outputs": [],
   "source": [
    "av19 =av19.astype(float)"
   ]
  },
  {
   "cell_type": "code",
   "execution_count": 17,
   "metadata": {},
   "outputs": [],
   "source": [
    "av16 = av16.astype(float)\n",
    "av17 = av17.astype(float)\n",
    "av18 = av18.astype(float)\n"
   ]
  },
  {
   "cell_type": "markdown",
   "metadata": {},
   "source": [
    "## Outlier Reduction "
   ]
  },
  {
   "cell_type": "code",
   "execution_count": 27,
   "metadata": {},
   "outputs": [],
   "source": [
    "for i in range(0,len(av19)):\n",
    "    if av19['PM2.5'][i] > 800:\n",
    "        av19['PM2.5'][i] = 800"
   ]
  },
  {
   "cell_type": "code",
   "execution_count": 28,
   "metadata": {},
   "outputs": [],
   "source": [
    "for i in range(0,len(av19)):\n",
    "    if av19['NH3'][i] > 250:\n",
    "        av19['NH3'][i] = 250"
   ]
  },
  {
   "cell_type": "code",
   "execution_count": 30,
   "metadata": {},
   "outputs": [],
   "source": [
    "for i in range(0,len(av19)):\n",
    "    if av19['CO'][i] > 15:\n",
    "        av19['CO'][i] = 15"
   ]
  },
  {
   "cell_type": "code",
   "execution_count": 31,
   "metadata": {},
   "outputs": [],
   "source": [
    "for i in range(0,len(av19)):\n",
    "    if av19['SO2'][i] > 200:\n",
    "        av19['SO2'][i] = 200"
   ]
  },
  {
   "cell_type": "code",
   "execution_count": 32,
   "metadata": {},
   "outputs": [],
   "source": [
    "for i in range(0,len(av19)):\n",
    "    if av19['NO2'][i] > 400:\n",
    "        av19['NO2'][i] = 400"
   ]
  },
  {
   "cell_type": "code",
   "execution_count": null,
   "metadata": {},
   "outputs": [],
   "source": [
    "# Lower Limits"
   ]
  },
  {
   "cell_type": "code",
   "execution_count": 33,
   "metadata": {},
   "outputs": [],
   "source": [
    "for i in range(0,len(av19)):\n",
    "    if av19['PM2.5'][i] < 0.1 :\n",
    "        av19['PM2.5'][i] = 0.1"
   ]
  },
  {
   "cell_type": "code",
   "execution_count": 34,
   "metadata": {},
   "outputs": [],
   "source": [
    "for i in range(0,len(av19)):\n",
    "    if av19['CO'][i] < 0.1 :\n",
    "        av19['CO'][i] = 0.1"
   ]
  },
  {
   "cell_type": "code",
   "execution_count": 35,
   "metadata": {},
   "outputs": [],
   "source": [
    "for i in range(0,len(av19)):\n",
    "    if av19['NH3'][i] < 0.1 :\n",
    "        av19['NH3'][i] = 0.1"
   ]
  },
  {
   "cell_type": "code",
   "execution_count": 36,
   "metadata": {},
   "outputs": [],
   "source": [
    "for i in range(0,len(av19)):\n",
    "    if av19['NO2'][i] < 0.1 :\n",
    "        av19['NO2'][i] = 0.1"
   ]
  },
  {
   "cell_type": "code",
   "execution_count": 37,
   "metadata": {},
   "outputs": [],
   "source": [
    "for i in range(0,len(av19)):\n",
    "    if av19['SO2'][i] < 0.1 :\n",
    "        av19['SO2'][i] = 0.1"
   ]
  },
  {
   "cell_type": "code",
   "execution_count": 78,
   "metadata": {},
   "outputs": [
    {
     "ename": "NameError",
     "evalue": "name 'df' is not defined",
     "output_type": "error",
     "traceback": [
      "\u001b[1;31m---------------------------------------------------------------------------\u001b[0m",
      "\u001b[1;31mNameError\u001b[0m                                 Traceback (most recent call last)",
      "\u001b[1;32m<ipython-input-78-1b41e4b91e1f>\u001b[0m in \u001b[0;36m<module>\u001b[1;34m()\u001b[0m\n\u001b[1;32m----> 1\u001b[1;33m \u001b[0mdf\u001b[0m\u001b[1;33m[\u001b[0m\u001b[0mdf\u001b[0m\u001b[1;33m.\u001b[0m\u001b[0mindex\u001b[0m \u001b[1;33m==\u001b[0m \u001b[1;34m'2018-11-08 00:00'\u001b[0m\u001b[1;33m]\u001b[0m\u001b[1;33m\u001b[0m\u001b[0m\n\u001b[0m",
      "\u001b[1;31mNameError\u001b[0m: name 'df' is not defined"
     ]
    }
   ],
   "source": [
    "df[df.index == '2018-11-08 00:00']"
   ]
  },
  {
   "cell_type": "code",
   "execution_count": 116,
   "metadata": {},
   "outputs": [
    {
     "name": "stdout",
     "output_type": "stream",
     "text": [
      "<class 'pandas.core.frame.DataFrame'>\n",
      "DatetimeIndex: 8760 entries, 2016-01-01 00:00:00 to 2016-12-31 23:00:00\n",
      "Data columns (total 6 columns):\n",
      "PM2.5    8308 non-null float64\n",
      "PM10     7024 non-null float64\n",
      "CO       8097 non-null float64\n",
      "NH3      7941 non-null float64\n",
      "NO2      8024 non-null float64\n",
      "SO2      8074 non-null float64\n",
      "dtypes: float64(6)\n",
      "memory usage: 799.1 KB\n"
     ]
    }
   ],
   "source": [
    "av16.info()"
   ]
  },
  {
   "cell_type": "code",
   "execution_count": 147,
   "metadata": {},
   "outputs": [],
   "source": [
    "av16.to_csv('AV_2016_new.csv')"
   ]
  },
  {
   "cell_type": "code",
   "execution_count": 148,
   "metadata": {},
   "outputs": [],
   "source": [
    "av17.to_csv('AV_2017_new.csv')"
   ]
  },
  {
   "cell_type": "code",
   "execution_count": 28,
   "metadata": {},
   "outputs": [],
   "source": [
    "av18.to_csv('AV_2018_new.csv')"
   ]
  },
  {
   "cell_type": "code",
   "execution_count": 41,
   "metadata": {},
   "outputs": [],
   "source": [
    "df.to_csv('Merged_Mice.csv')"
   ]
  },
  {
   "cell_type": "code",
   "execution_count": null,
   "metadata": {},
   "outputs": [],
   "source": []
  }
 ],
 "metadata": {
  "kernelspec": {
   "display_name": "Python 3",
   "language": "python",
   "name": "python3"
  },
  "language_info": {
   "codemirror_mode": {
    "name": "ipython",
    "version": 3
   },
   "file_extension": ".py",
   "mimetype": "text/x-python",
   "name": "python",
   "nbconvert_exporter": "python",
   "pygments_lexer": "ipython3",
   "version": "3.6.5"
  }
 },
 "nbformat": 4,
 "nbformat_minor": 2
}
